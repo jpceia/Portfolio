{
 "cells": [
  {
   "cell_type": "markdown",
   "metadata": {},
   "source": [
    "# Twitter Sentiment Analysis"
   ]
  },
  {
   "cell_type": "markdown",
   "metadata": {},
   "source": [
    "## 1 Problem description\n",
    "\n",
    "\n",
    "This project consists of a classification problem, where we try to predict from tweet if it consists of hate speech or not.\n",
    "The only data that we have access to are the tweets themselves, and the (binary) labels for the train set.\n",
    "\n",
    "Source:\n",
    "https://datahack.analyticsvidhya.com/contest/practice-problem-twitter-sentiment-analysis/\n"
   ]
  },
  {
   "cell_type": "code",
   "execution_count": 2,
   "metadata": {},
   "outputs": [
    {
     "name": "stdout",
     "output_type": "stream",
     "text": [
      "Using matplotlib backend: Qt5Agg\n"
     ]
    }
   ],
   "source": [
    "# importing modules\n",
    "\n",
    "import pandas as pd\n",
    "import numpy as np\n",
    "import os\n",
    "from collections import Counter\n",
    "from unidecode import unidecode\n",
    "from sklearn.model_selection import cross_val_score\n",
    "from sklearn.linear_model import LogisticRegression\n",
    "from sklearn.pipeline import make_pipeline\n",
    "from sklearn.feature_extraction.text import TfidfVectorizer, CountVectorizer\n",
    "from tmp_module import * # custom module\n",
    "\n",
    "%matplotlib"
   ]
  },
  {
   "cell_type": "markdown",
   "metadata": {},
   "source": [
    "## 2. Data Extraction"
   ]
  },
  {
   "cell_type": "code",
   "execution_count": 3,
   "metadata": {},
   "outputs": [],
   "source": [
    "df_train = pd.read_csv(\"train_E6oV3lV.csv\", index_col=[0])\n",
    "df_test = pd.read_csv(\"test_tweets_anuFYb8.csv\", index_col=[0])"
   ]
  },
  {
   "cell_type": "code",
   "execution_count": 4,
   "metadata": {},
   "outputs": [],
   "source": [
    "# to prepare data, we merge train and test data in a single dataframe:\n",
    "df = pd.concat([df_train, df_test], sort=False)"
   ]
  },
  {
   "cell_type": "markdown",
   "metadata": {},
   "source": [
    "A first step we should take a look at the data (or a small sample of) to see how it looks like, and see which kind of processing it needs."
   ]
  },
  {
   "cell_type": "code",
   "execution_count": 5,
   "metadata": {},
   "outputs": [
    {
     "data": {
      "text/html": [
       "<div>\n",
       "<style scoped>\n",
       "    .dataframe tbody tr th:only-of-type {\n",
       "        vertical-align: middle;\n",
       "    }\n",
       "\n",
       "    .dataframe tbody tr th {\n",
       "        vertical-align: top;\n",
       "    }\n",
       "\n",
       "    .dataframe thead th {\n",
       "        text-align: right;\n",
       "    }\n",
       "</style>\n",
       "<table border=\"1\" class=\"dataframe\">\n",
       "  <thead>\n",
       "    <tr style=\"text-align: right;\">\n",
       "      <th></th>\n",
       "      <th>label</th>\n",
       "      <th>tweet</th>\n",
       "    </tr>\n",
       "    <tr>\n",
       "      <th>id</th>\n",
       "      <th></th>\n",
       "      <th></th>\n",
       "    </tr>\n",
       "  </thead>\n",
       "  <tbody>\n",
       "    <tr>\n",
       "      <th>1</th>\n",
       "      <td>0.0</td>\n",
       "      <td>@user when a father is dysfunctional and is so selfish he drags his kids into his dysfunction.   #run</td>\n",
       "    </tr>\n",
       "    <tr>\n",
       "      <th>2</th>\n",
       "      <td>0.0</td>\n",
       "      <td>@user @user thanks for #lyft credit i can't use cause they don't offer wheelchair vans in pdx.    #disapointed #getthanked</td>\n",
       "    </tr>\n",
       "    <tr>\n",
       "      <th>3</th>\n",
       "      <td>0.0</td>\n",
       "      <td>bihday your majesty</td>\n",
       "    </tr>\n",
       "    <tr>\n",
       "      <th>4</th>\n",
       "      <td>0.0</td>\n",
       "      <td>#model   i love u take with u all the time in urð±!!! ðððð",
       "ð¦ð¦ð¦</td>\n",
       "    </tr>\n",
       "    <tr>\n",
       "      <th>5</th>\n",
       "      <td>0.0</td>\n",
       "      <td>factsguide: society now    #motivation</td>\n",
       "    </tr>\n",
       "  </tbody>\n",
       "</table>\n",
       "</div>"
      ],
      "text/plain": [
       "    label  \\\n",
       "id          \n",
       "1     0.0   \n",
       "2     0.0   \n",
       "3     0.0   \n",
       "4     0.0   \n",
       "5     0.0   \n",
       "\n",
       "                                                                                                                         tweet  \n",
       "id                                                                                                                              \n",
       "1                        @user when a father is dysfunctional and is so selfish he drags his kids into his dysfunction.   #run  \n",
       "2   @user @user thanks for #lyft credit i can't use cause they don't offer wheelchair vans in pdx.    #disapointed #getthanked  \n",
       "3                                                                                                          bihday your majesty  \n",
       "4                                       #model   i love u take with u all the time in urð±!!! ðððð\n",
       "ð¦ð¦ð¦    \n",
       "5                                                                                       factsguide: society now    #motivation  "
      ]
     },
     "execution_count": 5,
     "metadata": {},
     "output_type": "execute_result"
    }
   ],
   "source": [
    "pd.set_option('max_colwidth', 600) # this ensures that we extend the width of the dataframe columns to see its full conten\n",
    "df.head()"
   ]
  },
  {
   "cell_type": "markdown",
   "metadata": {},
   "source": [
    "We observe that:\n",
    "\n",
    "1. Some of the characters are not being correctly decoded, therefore we need to apply an extra step on data preparation to handle that.\n",
    "\n",
    "2. The words after the @'s should correspond to user accounts, however, our sample seems to suggest that the different usernames were replaced simply by a '@user' tag. Nonetheless, we can count the occurrences of references to users in a tweet and use that as a new feature.\n",
    "\n",
    "3. Apart from the references to other users, we can also distinguish between 'simple' text and text which is preceded by hashtags. So, we can separate those into two different features."
   ]
  },
  {
   "cell_type": "code",
   "execution_count": 6,
   "metadata": {},
   "outputs": [],
   "source": [
    "df['tweet'] = df[\"tweet\"].map(unidecode)  # this corrects the strange characters we observe above"
   ]
  },
  {
   "cell_type": "code",
   "execution_count": 7,
   "metadata": {},
   "outputs": [],
   "source": [
    "# counting the occurrences of the label '@user' in the tweet\n",
    "df['user_refs'] = df['tweet'].str.findall(\"@user\").str.len()\n",
    "\n",
    "# removing the ocurrences of '@user' label in the twiit\n",
    "# note: we create a new column for this, called 'text', to keep the original tweet as well\n",
    "df['text'] = df['tweet'].str.replace(\"@user\", \"\")  "
   ]
  },
  {
   "cell_type": "code",
   "execution_count": 8,
   "metadata": {},
   "outputs": [],
   "source": [
    "# extracting the hashtags to a new column\n",
    "df['hashtags'] = df['tweet'].str.findall('#\\w+').map(lambda x: ' '.join(x))\n",
    "df['text'] = df['text'].str.replace('#\\w+', '')"
   ]
  },
  {
   "cell_type": "code",
   "execution_count": 9,
   "metadata": {},
   "outputs": [],
   "source": [
    "# we apply an extra step to 'text' columns, to santize the strings\n",
    "df['text'] = df['text'].map(lambda x: x.lower()).str.replace(\"\\W+\", \" \")"
   ]
  },
  {
   "cell_type": "code",
   "execution_count": 10,
   "metadata": {},
   "outputs": [
    {
     "data": {
      "text/html": [
       "<div>\n",
       "<style scoped>\n",
       "    .dataframe tbody tr th:only-of-type {\n",
       "        vertical-align: middle;\n",
       "    }\n",
       "\n",
       "    .dataframe tbody tr th {\n",
       "        vertical-align: top;\n",
       "    }\n",
       "\n",
       "    .dataframe thead th {\n",
       "        text-align: right;\n",
       "    }\n",
       "</style>\n",
       "<table border=\"1\" class=\"dataframe\">\n",
       "  <thead>\n",
       "    <tr style=\"text-align: right;\">\n",
       "      <th></th>\n",
       "      <th>label</th>\n",
       "      <th>tweet</th>\n",
       "      <th>user_refs</th>\n",
       "      <th>text</th>\n",
       "      <th>hashtags</th>\n",
       "    </tr>\n",
       "    <tr>\n",
       "      <th>id</th>\n",
       "      <th></th>\n",
       "      <th></th>\n",
       "      <th></th>\n",
       "      <th></th>\n",
       "      <th></th>\n",
       "    </tr>\n",
       "  </thead>\n",
       "  <tbody>\n",
       "    <tr>\n",
       "      <th>1</th>\n",
       "      <td>0.0</td>\n",
       "      <td>@user when a father is dysfunctional and is so selfish he drags his kids into his dysfunction.   #run</td>\n",
       "      <td>1</td>\n",
       "      <td>when a father is dysfunctional and is so selfish he drags his kids into his dysfunction</td>\n",
       "      <td>#run</td>\n",
       "    </tr>\n",
       "    <tr>\n",
       "      <th>2</th>\n",
       "      <td>0.0</td>\n",
       "      <td>@user @user thanks for #lyft credit i can't use cause they don't offer wheelchair vans in pdx.    #disapointed #getthanked</td>\n",
       "      <td>2</td>\n",
       "      <td>thanks for credit i can t use cause they don t offer wheelchair vans in pdx</td>\n",
       "      <td>#lyft #disapointed #getthanked</td>\n",
       "    </tr>\n",
       "    <tr>\n",
       "      <th>3</th>\n",
       "      <td>0.0</td>\n",
       "      <td>bihday your majesty</td>\n",
       "      <td>0</td>\n",
       "      <td>bihday your majesty</td>\n",
       "      <td></td>\n",
       "    </tr>\n",
       "    <tr>\n",
       "      <th>4</th>\n",
       "      <td>0.0</td>\n",
       "      <td>#model   i love u take with u all the time in urd+-!!! ddddd|d|d|</td>\n",
       "      <td>0</td>\n",
       "      <td>i love u take with u all the time in urd ddddd d d</td>\n",
       "      <td>#model</td>\n",
       "    </tr>\n",
       "    <tr>\n",
       "      <th>5</th>\n",
       "      <td>0.0</td>\n",
       "      <td>factsguide: society now    #motivation</td>\n",
       "      <td>0</td>\n",
       "      <td>factsguide society now</td>\n",
       "      <td>#motivation</td>\n",
       "    </tr>\n",
       "  </tbody>\n",
       "</table>\n",
       "</div>"
      ],
      "text/plain": [
       "    label  \\\n",
       "id          \n",
       "1     0.0   \n",
       "2     0.0   \n",
       "3     0.0   \n",
       "4     0.0   \n",
       "5     0.0   \n",
       "\n",
       "                                                                                                                         tweet  \\\n",
       "id                                                                                                                               \n",
       "1                        @user when a father is dysfunctional and is so selfish he drags his kids into his dysfunction.   #run   \n",
       "2   @user @user thanks for #lyft credit i can't use cause they don't offer wheelchair vans in pdx.    #disapointed #getthanked   \n",
       "3                                                                                                          bihday your majesty   \n",
       "4                                                          #model   i love u take with u all the time in urd+-!!! ddddd|d|d|     \n",
       "5                                                                                       factsguide: society now    #motivation   \n",
       "\n",
       "    user_refs  \\\n",
       "id              \n",
       "1           1   \n",
       "2           2   \n",
       "3           0   \n",
       "4           0   \n",
       "5           0   \n",
       "\n",
       "                                                                                         text  \\\n",
       "id                                                                                              \n",
       "1    when a father is dysfunctional and is so selfish he drags his kids into his dysfunction    \n",
       "2                thanks for credit i can t use cause they don t offer wheelchair vans in pdx    \n",
       "3                                                                         bihday your majesty   \n",
       "4                                         i love u take with u all the time in urd ddddd d d    \n",
       "5                                                                     factsguide society now    \n",
       "\n",
       "                          hashtags  \n",
       "id                                  \n",
       "1                             #run  \n",
       "2   #lyft #disapointed #getthanked  \n",
       "3                                   \n",
       "4                           #model  \n",
       "5                      #motivation  "
      ]
     },
     "execution_count": 10,
     "metadata": {},
     "output_type": "execute_result"
    }
   ],
   "source": [
    "# showing prepared data:\n",
    "df.head()"
   ]
  },
  {
   "cell_type": "markdown",
   "metadata": {},
   "source": [
    "## 2. Exploratory Data Analysis"
   ]
  },
  {
   "cell_type": "markdown",
   "metadata": {},
   "source": [
    "As we did above, we should take a look at data, but now spliting it for the two types of labels (hate and 'non hate' tweets)"
   ]
  },
  {
   "cell_type": "code",
   "execution_count": 11,
   "metadata": {},
   "outputs": [
    {
     "name": "stdout",
     "output_type": "stream",
     "text": [
      "train set size: 31962\n",
      "test set size: 17197\n"
     ]
    }
   ],
   "source": [
    "# size of train and test data\n",
    "print('train set size:', len(df_train))\n",
    "print('test set size:', len(df_test))"
   ]
  },
  {
   "cell_type": "code",
   "execution_count": 12,
   "metadata": {},
   "outputs": [
    {
     "data": {
      "text/plain": [
       "label\n",
       "0    0.929854\n",
       "1    0.070146\n",
       "Name: tweet, dtype: float64"
      ]
     },
     "execution_count": 12,
     "metadata": {},
     "output_type": "execute_result"
    }
   ],
   "source": [
    "df_train.groupby('label')['tweet'].count() / df_train['tweet'].count()"
   ]
  },
  {
   "cell_type": "markdown",
   "metadata": {},
   "source": [
    "=> 7% of the tweets have hate speech"
   ]
  },
  {
   "cell_type": "markdown",
   "metadata": {},
   "source": [
    "### 2.1 How does the hate speech looks like?"
   ]
  },
  {
   "cell_type": "code",
   "execution_count": 13,
   "metadata": {
    "scrolled": true
   },
   "outputs": [
    {
     "data": {
      "text/html": [
       "<div>\n",
       "<style scoped>\n",
       "    .dataframe tbody tr th:only-of-type {\n",
       "        vertical-align: middle;\n",
       "    }\n",
       "\n",
       "    .dataframe tbody tr th {\n",
       "        vertical-align: top;\n",
       "    }\n",
       "\n",
       "    .dataframe thead th {\n",
       "        text-align: right;\n",
       "    }\n",
       "</style>\n",
       "<table border=\"1\" class=\"dataframe\">\n",
       "  <thead>\n",
       "    <tr style=\"text-align: right;\">\n",
       "      <th></th>\n",
       "      <th>label</th>\n",
       "      <th>tweet</th>\n",
       "      <th>user_refs</th>\n",
       "      <th>text</th>\n",
       "      <th>hashtags</th>\n",
       "    </tr>\n",
       "    <tr>\n",
       "      <th>id</th>\n",
       "      <th></th>\n",
       "      <th></th>\n",
       "      <th></th>\n",
       "      <th></th>\n",
       "      <th></th>\n",
       "    </tr>\n",
       "  </thead>\n",
       "  <tbody>\n",
       "    <tr>\n",
       "      <th>14</th>\n",
       "      <td>1.0</td>\n",
       "      <td>@user #cnn calls #michigan middle school 'build the wall' chant '' #tcot</td>\n",
       "      <td>1</td>\n",
       "      <td>calls middle school build the wall chant</td>\n",
       "      <td>#cnn #michigan #tcot</td>\n",
       "    </tr>\n",
       "    <tr>\n",
       "      <th>15</th>\n",
       "      <td>1.0</td>\n",
       "      <td>no comment!  in #australia   #opkillingbay #seashepherd #helpcovedolphins #thecove  #helpcovedolphins</td>\n",
       "      <td>0</td>\n",
       "      <td>no comment in</td>\n",
       "      <td>#australia #opkillingbay #seashepherd #helpcovedolphins #thecove #helpcovedolphins</td>\n",
       "    </tr>\n",
       "    <tr>\n",
       "      <th>18</th>\n",
       "      <td>1.0</td>\n",
       "      <td>retweet if you agree!</td>\n",
       "      <td>0</td>\n",
       "      <td>retweet if you agree</td>\n",
       "      <td></td>\n",
       "    </tr>\n",
       "    <tr>\n",
       "      <th>24</th>\n",
       "      <td>1.0</td>\n",
       "      <td>@user @user lumpy says i am a . prove it lumpy.</td>\n",
       "      <td>2</td>\n",
       "      <td>lumpy says i am a prove it lumpy</td>\n",
       "      <td></td>\n",
       "    </tr>\n",
       "    <tr>\n",
       "      <th>35</th>\n",
       "      <td>1.0</td>\n",
       "      <td>it's unbelievable that in the 21st century we'd need something like this. again. #neverump  #xenophobia</td>\n",
       "      <td>0</td>\n",
       "      <td>it s unbelievable that in the 21st century we d need something like this again</td>\n",
       "      <td>#neverump #xenophobia</td>\n",
       "    </tr>\n",
       "    <tr>\n",
       "      <th>57</th>\n",
       "      <td>1.0</td>\n",
       "      <td>@user lets fight against  #love #peace</td>\n",
       "      <td>1</td>\n",
       "      <td>lets fight against</td>\n",
       "      <td>#love #peace</td>\n",
       "    </tr>\n",
       "    <tr>\n",
       "      <th>69</th>\n",
       "      <td>1.0</td>\n",
       "      <td>d(c)the white establishment can't have blk folx running around loving themselves and promoting our greatness</td>\n",
       "      <td>0</td>\n",
       "      <td>d c the white establishment can t have blk folx running around loving themselves and promoting our greatness</td>\n",
       "      <td></td>\n",
       "    </tr>\n",
       "    <tr>\n",
       "      <th>78</th>\n",
       "      <td>1.0</td>\n",
       "      <td>@user hey, white people: you can call people 'white' by @user  #race  #identity #meda|</td>\n",
       "      <td>2</td>\n",
       "      <td>hey white people you can call people white by</td>\n",
       "      <td>#race #identity #meda</td>\n",
       "    </tr>\n",
       "    <tr>\n",
       "      <th>83</th>\n",
       "      <td>1.0</td>\n",
       "      <td>how the #altright uses  &amp;amp; insecurity to lure men into #whitesupremacy</td>\n",
       "      <td>0</td>\n",
       "      <td>how the uses amp insecurity to lure men into</td>\n",
       "      <td>#altright #whitesupremacy</td>\n",
       "    </tr>\n",
       "    <tr>\n",
       "      <th>112</th>\n",
       "      <td>1.0</td>\n",
       "      <td>@user i'm not interested in a #linguistics that doesn't address #race &amp;amp; . racism is about #power. #raciolinguistics bringsa|</td>\n",
       "      <td>1</td>\n",
       "      <td>i m not interested in a that doesn t address amp racism is about bringsa</td>\n",
       "      <td>#linguistics #race #power #raciolinguistics</td>\n",
       "    </tr>\n",
       "  </tbody>\n",
       "</table>\n",
       "</div>"
      ],
      "text/plain": [
       "     label  \\\n",
       "id           \n",
       "14     1.0   \n",
       "15     1.0   \n",
       "18     1.0   \n",
       "24     1.0   \n",
       "35     1.0   \n",
       "57     1.0   \n",
       "69     1.0   \n",
       "78     1.0   \n",
       "83     1.0   \n",
       "112    1.0   \n",
       "\n",
       "                                                                                                                                tweet  \\\n",
       "id                                                                                                                                      \n",
       "14                                                         @user #cnn calls #michigan middle school 'build the wall' chant '' #tcot     \n",
       "15                              no comment!  in #australia   #opkillingbay #seashepherd #helpcovedolphins #thecove  #helpcovedolphins   \n",
       "18                                                                                                             retweet if you agree!    \n",
       "24                                                                                    @user @user lumpy says i am a . prove it lumpy.   \n",
       "35                           it's unbelievable that in the 21st century we'd need something like this. again. #neverump  #xenophobia    \n",
       "57                                                                                            @user lets fight against  #love #peace    \n",
       "69                     d(c)the white establishment can't have blk folx running around loving themselves and promoting our greatness     \n",
       "78                                             @user hey, white people: you can call people 'white' by @user  #race  #identity #meda|   \n",
       "83                                                      how the #altright uses  &amp; insecurity to lure men into #whitesupremacy       \n",
       "112  @user i'm not interested in a #linguistics that doesn't address #race &amp; . racism is about #power. #raciolinguistics bringsa|   \n",
       "\n",
       "     user_refs  \\\n",
       "id               \n",
       "14           1   \n",
       "15           0   \n",
       "18           0   \n",
       "24           2   \n",
       "35           0   \n",
       "57           1   \n",
       "69           0   \n",
       "78           2   \n",
       "83           0   \n",
       "112          1   \n",
       "\n",
       "                                                                                                              text  \\\n",
       "id                                                                                                                   \n",
       "14                                                                       calls middle school build the wall chant    \n",
       "15                                                                                                  no comment in    \n",
       "18                                                                                           retweet if you agree    \n",
       "24                                                                               lumpy says i am a prove it lumpy    \n",
       "35                                 it s unbelievable that in the 21st century we d need something like this again    \n",
       "57                                                                                             lets fight against    \n",
       "69   d c the white establishment can t have blk folx running around loving themselves and promoting our greatness    \n",
       "78                                                                  hey white people you can call people white by    \n",
       "83                                                                   how the uses amp insecurity to lure men into    \n",
       "112                                      i m not interested in a that doesn t address amp racism is about bringsa    \n",
       "\n",
       "                                                                               hashtags  \n",
       "id                                                                                       \n",
       "14                                                                 #cnn #michigan #tcot  \n",
       "15   #australia #opkillingbay #seashepherd #helpcovedolphins #thecove #helpcovedolphins  \n",
       "18                                                                                       \n",
       "24                                                                                       \n",
       "35                                                                #neverump #xenophobia  \n",
       "57                                                                         #love #peace  \n",
       "69                                                                                       \n",
       "78                                                                #race #identity #meda  \n",
       "83                                                            #altright #whitesupremacy  \n",
       "112                                         #linguistics #race #power #raciolinguistics  "
      ]
     },
     "execution_count": 13,
     "metadata": {},
     "output_type": "execute_result"
    }
   ],
   "source": [
    "df[df[\"label\"] == 1].head(10)"
   ]
  },
  {
   "cell_type": "markdown",
   "metadata": {},
   "source": [
    "Examples of 'Non hate' speech"
   ]
  },
  {
   "cell_type": "code",
   "execution_count": 14,
   "metadata": {},
   "outputs": [
    {
     "data": {
      "text/html": [
       "<div>\n",
       "<style scoped>\n",
       "    .dataframe tbody tr th:only-of-type {\n",
       "        vertical-align: middle;\n",
       "    }\n",
       "\n",
       "    .dataframe tbody tr th {\n",
       "        vertical-align: top;\n",
       "    }\n",
       "\n",
       "    .dataframe thead th {\n",
       "        text-align: right;\n",
       "    }\n",
       "</style>\n",
       "<table border=\"1\" class=\"dataframe\">\n",
       "  <thead>\n",
       "    <tr style=\"text-align: right;\">\n",
       "      <th></th>\n",
       "      <th>label</th>\n",
       "      <th>tweet</th>\n",
       "      <th>user_refs</th>\n",
       "      <th>text</th>\n",
       "      <th>hashtags</th>\n",
       "    </tr>\n",
       "    <tr>\n",
       "      <th>id</th>\n",
       "      <th></th>\n",
       "      <th></th>\n",
       "      <th></th>\n",
       "      <th></th>\n",
       "      <th></th>\n",
       "    </tr>\n",
       "  </thead>\n",
       "  <tbody>\n",
       "    <tr>\n",
       "      <th>1</th>\n",
       "      <td>0.0</td>\n",
       "      <td>@user when a father is dysfunctional and is so selfish he drags his kids into his dysfunction.   #run</td>\n",
       "      <td>1</td>\n",
       "      <td>when a father is dysfunctional and is so selfish he drags his kids into his dysfunction</td>\n",
       "      <td>#run</td>\n",
       "    </tr>\n",
       "    <tr>\n",
       "      <th>2</th>\n",
       "      <td>0.0</td>\n",
       "      <td>@user @user thanks for #lyft credit i can't use cause they don't offer wheelchair vans in pdx.    #disapointed #getthanked</td>\n",
       "      <td>2</td>\n",
       "      <td>thanks for credit i can t use cause they don t offer wheelchair vans in pdx</td>\n",
       "      <td>#lyft #disapointed #getthanked</td>\n",
       "    </tr>\n",
       "    <tr>\n",
       "      <th>3</th>\n",
       "      <td>0.0</td>\n",
       "      <td>bihday your majesty</td>\n",
       "      <td>0</td>\n",
       "      <td>bihday your majesty</td>\n",
       "      <td></td>\n",
       "    </tr>\n",
       "    <tr>\n",
       "      <th>4</th>\n",
       "      <td>0.0</td>\n",
       "      <td>#model   i love u take with u all the time in urd+-!!! ddddd|d|d|</td>\n",
       "      <td>0</td>\n",
       "      <td>i love u take with u all the time in urd ddddd d d</td>\n",
       "      <td>#model</td>\n",
       "    </tr>\n",
       "    <tr>\n",
       "      <th>5</th>\n",
       "      <td>0.0</td>\n",
       "      <td>factsguide: society now    #motivation</td>\n",
       "      <td>0</td>\n",
       "      <td>factsguide society now</td>\n",
       "      <td>#motivation</td>\n",
       "    </tr>\n",
       "    <tr>\n",
       "      <th>6</th>\n",
       "      <td>0.0</td>\n",
       "      <td>[2/2] huge fan fare and big talking before they leave. chaos and pay disputes when they get there. #allshowandnogo</td>\n",
       "      <td>0</td>\n",
       "      <td>2 2 huge fan fare and big talking before they leave chaos and pay disputes when they get there</td>\n",
       "      <td>#allshowandnogo</td>\n",
       "    </tr>\n",
       "    <tr>\n",
       "      <th>7</th>\n",
       "      <td>0.0</td>\n",
       "      <td>@user camping tomorrow @user @user @user @user @user @user @user dannya|</td>\n",
       "      <td>8</td>\n",
       "      <td>camping tomorrow dannya</td>\n",
       "      <td></td>\n",
       "    </tr>\n",
       "    <tr>\n",
       "      <th>8</th>\n",
       "      <td>0.0</td>\n",
       "      <td>the next school year is the year for exams.d- can't think about that d #school #exams   #hate #imagine #actorslife #revolutionschool #girl</td>\n",
       "      <td>0</td>\n",
       "      <td>the next school year is the year for exams d can t think about that d</td>\n",
       "      <td>#school #exams #hate #imagine #actorslife #revolutionschool #girl</td>\n",
       "    </tr>\n",
       "    <tr>\n",
       "      <th>9</th>\n",
       "      <td>0.0</td>\n",
       "      <td>we won!!! love the land!!! #allin #cavs #champions #cleveland #clevelandcavaliers  a|</td>\n",
       "      <td>0</td>\n",
       "      <td>we won love the land a</td>\n",
       "      <td>#allin #cavs #champions #cleveland #clevelandcavaliers</td>\n",
       "    </tr>\n",
       "    <tr>\n",
       "      <th>10</th>\n",
       "      <td>0.0</td>\n",
       "      <td>@user @user welcome here !  i'm   it's so #gr8 !</td>\n",
       "      <td>2</td>\n",
       "      <td>welcome here i m it s so</td>\n",
       "      <td>#gr8</td>\n",
       "    </tr>\n",
       "  </tbody>\n",
       "</table>\n",
       "</div>"
      ],
      "text/plain": [
       "    label  \\\n",
       "id          \n",
       "1     0.0   \n",
       "2     0.0   \n",
       "3     0.0   \n",
       "4     0.0   \n",
       "5     0.0   \n",
       "6     0.0   \n",
       "7     0.0   \n",
       "8     0.0   \n",
       "9     0.0   \n",
       "10    0.0   \n",
       "\n",
       "                                                                                                                                         tweet  \\\n",
       "id                                                                                                                                               \n",
       "1                                        @user when a father is dysfunctional and is so selfish he drags his kids into his dysfunction.   #run   \n",
       "2                   @user @user thanks for #lyft credit i can't use cause they don't offer wheelchair vans in pdx.    #disapointed #getthanked   \n",
       "3                                                                                                                          bihday your majesty   \n",
       "4                                                                          #model   i love u take with u all the time in urd+-!!! ddddd|d|d|     \n",
       "5                                                                                                       factsguide: society now    #motivation   \n",
       "6                         [2/2] huge fan fare and big talking before they leave. chaos and pay disputes when they get there. #allshowandnogo     \n",
       "7                                                                     @user camping tomorrow @user @user @user @user @user @user @user dannya|   \n",
       "8   the next school year is the year for exams.d- can't think about that d #school #exams   #hate #imagine #actorslife #revolutionschool #girl   \n",
       "9                                                       we won!!! love the land!!! #allin #cavs #champions #cleveland #clevelandcavaliers  a|    \n",
       "10                                                                                           @user @user welcome here !  i'm   it's so #gr8 !    \n",
       "\n",
       "    user_refs  \\\n",
       "id              \n",
       "1           1   \n",
       "2           2   \n",
       "3           0   \n",
       "4           0   \n",
       "5           0   \n",
       "6           0   \n",
       "7           8   \n",
       "8           0   \n",
       "9           0   \n",
       "10          2   \n",
       "\n",
       "                                                                                                text  \\\n",
       "id                                                                                                     \n",
       "1           when a father is dysfunctional and is so selfish he drags his kids into his dysfunction    \n",
       "2                       thanks for credit i can t use cause they don t offer wheelchair vans in pdx    \n",
       "3                                                                                bihday your majesty   \n",
       "4                                                i love u take with u all the time in urd ddddd d d    \n",
       "5                                                                            factsguide society now    \n",
       "6    2 2 huge fan fare and big talking before they leave chaos and pay disputes when they get there    \n",
       "7                                                                           camping tomorrow dannya    \n",
       "8                             the next school year is the year for exams d can t think about that d    \n",
       "9                                                                            we won love the land a    \n",
       "10                                                                         welcome here i m it s so    \n",
       "\n",
       "                                                             hashtags  \n",
       "id                                                                     \n",
       "1                                                                #run  \n",
       "2                                      #lyft #disapointed #getthanked  \n",
       "3                                                                      \n",
       "4                                                              #model  \n",
       "5                                                         #motivation  \n",
       "6                                                     #allshowandnogo  \n",
       "7                                                                      \n",
       "8   #school #exams #hate #imagine #actorslife #revolutionschool #girl  \n",
       "9              #allin #cavs #champions #cleveland #clevelandcavaliers  \n",
       "10                                                               #gr8  "
      ]
     },
     "execution_count": 14,
     "metadata": {},
     "output_type": "execute_result"
    }
   ],
   "source": [
    "df[df[\"label\"] == 0].head(10)"
   ]
  },
  {
   "cell_type": "markdown",
   "metadata": {},
   "source": [
    "### 2.2 Most frequent Hashtags"
   ]
  },
  {
   "cell_type": "code",
   "execution_count": 15,
   "metadata": {},
   "outputs": [],
   "source": [
    "# we create a counter of hashtags - only for train data\n",
    "htPerTweet = df['hashtags'].map(lambda s: Counter(s.split()))\n",
    "htCount_0 = htPerTweet[df['label'] == 0].sum()\n",
    "htCount_1 = htPerTweet[df['label'] == 1].sum()\n",
    "htCount = htCount_0 + htCount_1"
   ]
  },
  {
   "cell_type": "code",
   "execution_count": 16,
   "metadata": {},
   "outputs": [],
   "source": [
    "table = pd.DataFrame({'tot': htCount, 0: htCount_0, 1: htCount_1}).fillna(0)"
   ]
  },
  {
   "cell_type": "code",
   "execution_count": 17,
   "metadata": {},
   "outputs": [
    {
     "data": {
      "text/html": [
       "<div>\n",
       "<style scoped>\n",
       "    .dataframe tbody tr th:only-of-type {\n",
       "        vertical-align: middle;\n",
       "    }\n",
       "\n",
       "    .dataframe tbody tr th {\n",
       "        vertical-align: top;\n",
       "    }\n",
       "\n",
       "    .dataframe thead th {\n",
       "        text-align: right;\n",
       "    }\n",
       "</style>\n",
       "<table border=\"1\" class=\"dataframe\">\n",
       "  <thead>\n",
       "    <tr style=\"text-align: right;\">\n",
       "      <th></th>\n",
       "      <th>tot</th>\n",
       "      <th>0</th>\n",
       "      <th>1</th>\n",
       "    </tr>\n",
       "  </thead>\n",
       "  <tbody>\n",
       "    <tr>\n",
       "      <th>#love</th>\n",
       "      <td>1542</td>\n",
       "      <td>1531.0</td>\n",
       "      <td>11.0</td>\n",
       "    </tr>\n",
       "    <tr>\n",
       "      <th>#positive</th>\n",
       "      <td>874</td>\n",
       "      <td>874.0</td>\n",
       "      <td>0.0</td>\n",
       "    </tr>\n",
       "    <tr>\n",
       "      <th>#healthy</th>\n",
       "      <td>571</td>\n",
       "      <td>570.0</td>\n",
       "      <td>1.0</td>\n",
       "    </tr>\n",
       "    <tr>\n",
       "      <th>#smile</th>\n",
       "      <td>548</td>\n",
       "      <td>548.0</td>\n",
       "      <td>0.0</td>\n",
       "    </tr>\n",
       "    <tr>\n",
       "      <th>#thankful</th>\n",
       "      <td>491</td>\n",
       "      <td>491.0</td>\n",
       "      <td>0.0</td>\n",
       "    </tr>\n",
       "  </tbody>\n",
       "</table>\n",
       "</div>"
      ],
      "text/plain": [
       "            tot       0     1\n",
       "#love      1542  1531.0  11.0\n",
       "#positive   874   874.0   0.0\n",
       "#healthy    571   570.0   1.0\n",
       "#smile      548   548.0   0.0\n",
       "#thankful   491   491.0   0.0"
      ]
     },
     "execution_count": 17,
     "metadata": {},
     "output_type": "execute_result"
    }
   ],
   "source": [
    "# most frequency hash tags - both hate and non hte speech\n",
    "table.sort_values(by='tot', ascending=False).head()"
   ]
  },
  {
   "cell_type": "code",
   "execution_count": 18,
   "metadata": {},
   "outputs": [
    {
     "data": {
      "text/html": [
       "<div>\n",
       "<style scoped>\n",
       "    .dataframe tbody tr th:only-of-type {\n",
       "        vertical-align: middle;\n",
       "    }\n",
       "\n",
       "    .dataframe tbody tr th {\n",
       "        vertical-align: top;\n",
       "    }\n",
       "\n",
       "    .dataframe thead th {\n",
       "        text-align: right;\n",
       "    }\n",
       "</style>\n",
       "<table border=\"1\" class=\"dataframe\">\n",
       "  <thead>\n",
       "    <tr style=\"text-align: right;\">\n",
       "      <th></th>\n",
       "      <th>tot</th>\n",
       "      <th>0</th>\n",
       "      <th>1</th>\n",
       "    </tr>\n",
       "  </thead>\n",
       "  <tbody>\n",
       "    <tr>\n",
       "      <th>#trump</th>\n",
       "      <td>176</td>\n",
       "      <td>43.0</td>\n",
       "      <td>133.0</td>\n",
       "    </tr>\n",
       "    <tr>\n",
       "      <th>#politics</th>\n",
       "      <td>99</td>\n",
       "      <td>5.0</td>\n",
       "      <td>94.0</td>\n",
       "    </tr>\n",
       "    <tr>\n",
       "      <th>#allahsoil</th>\n",
       "      <td>92</td>\n",
       "      <td>0.0</td>\n",
       "      <td>92.0</td>\n",
       "    </tr>\n",
       "    <tr>\n",
       "      <th>#libtard</th>\n",
       "      <td>77</td>\n",
       "      <td>1.0</td>\n",
       "      <td>76.0</td>\n",
       "    </tr>\n",
       "    <tr>\n",
       "      <th>#liberal</th>\n",
       "      <td>78</td>\n",
       "      <td>3.0</td>\n",
       "      <td>75.0</td>\n",
       "    </tr>\n",
       "  </tbody>\n",
       "</table>\n",
       "</div>"
      ],
      "text/plain": [
       "            tot     0      1\n",
       "#trump      176  43.0  133.0\n",
       "#politics    99   5.0   94.0\n",
       "#allahsoil   92   0.0   92.0\n",
       "#libtard     77   1.0   76.0\n",
       "#liberal     78   3.0   75.0"
      ]
     },
     "execution_count": 18,
     "metadata": {},
     "output_type": "execute_result"
    }
   ],
   "source": [
    "# most frequenct hashtags for hatespeech\n",
    "table.sort_values(by=1, ascending=False).head()"
   ]
  },
  {
   "cell_type": "markdown",
   "metadata": {},
   "source": [
    "## 3. Prediction"
   ]
  },
  {
   "cell_type": "markdown",
   "metadata": {},
   "source": [
    "### 3.1 Poisson Naive Bayes Model\n",
    "\n",
    "The Poisson Bayes Model is an attempt to model label data $y$ with a probability distribution $P(y\\mid X)$, where $X$ are the features.\n",
    "\n",
    "\n",
    "1. **The 'Bayes' part:** In some cases it is more natural to model $P(X|y)$ instead of $P(y\\mid X)$. The bayes law relates these two conditional probabilities through $P\\left(y\\mid X\\right)=P\\left(X\\mid y\\right)\\cdot\\frac{P(y)}{P(X)}$. Furthermore, assuming that the set of possible labels is discrete (in this case y is 0 or 1), we can write $P\\left(y_k\\mid X\\right) =P\\left( X\\mid y\\right) \\cdot\\frac{P\\left( y_k\\right)}{Z}$, where $Z = \\sum_k P(y_k)\\cdot P\\left( X\\mid y_k \\right)$. (in the continuous case we can use an integral instead of a sum).\n",
    "\n",
    "\n",
    "2. **The 'Naive' part** comes from the assumption that the different features $X=\\left(x_1, \\cdots,x_n\\right)$ are independent conditional to each label, i.e, it is assumed that $P\\left(X\\mid y_k\\right) =P\\left( x_1\\mid y_k\\right)\\cdots P\\left( x_n\\mid y_k\\right)\\forall k$.\n",
    "\n",
    "\n",
    "3. **The 'Poisson' part** comes from the probability family distribution we choose to model each $P\\left(x_i\\mid y_k\\right)$. In this case, because we are dealing with count data we choose a poisson distribution $Poi(\\lambda_{ik})$, which depends only on one parameter $\\lambda$, which is equal to its expectation."
   ]
  },
  {
   "cell_type": "markdown",
   "metadata": {},
   "source": [
    "### 3.1.1 Trainning\n",
    "\n",
    "In a training stage, we need to determine the $\\lambda_{ik}$ parameters, using training data.\n",
    "\n",
    "1. If our prior assumption for this parameter is uniform then we only need to use the frequencies from the training set.\n",
    "   Hence, for a given word $x_i$ and a given class $y_k$ our estimation should be\n",
    "   $$\\lambda_{ik} = \\frac{\\#\\{tweet\\mid tweet\\in S_k, x_i\\in tweet\\} }{\\#S_k}$$\n",
    "   Where $S_k$ are the set of tweets with label $k$\n",
    "   \n",
    "&rarr; Having a uniform prior can lead to issues when applying the model to new tweets with new words, because $p\\left(x\\mid \\lambda=0\\right)=0 \\forall x>0$ )\n",
    "\n",
    "We should then have a prior assumption which is equivalent to observe $n$ tweets with an observation rate $\\theta_k$.\n",
    "2. Under the informal description, we did above we know that the conjugate prior for the poisson distribution is a gamma distribution $\\Gamma$ with parameters $\\alpha_{prior}=n\\cdot\\theta_k$ and $\\beta_{prior}=n$.\n",
    "\n",
    "Our posterior distribution, after observation of the train data will then have parameters  $\\alpha_{posterior}=n\\cdot\\theta_k+\\#\\{tweet\\mid tweet\\in S_k, x_i\\in tweet\\}$ and $\\beta_{posterior}=n + \\#S_k$.\n",
    "\n",
    "Therefore our estimation for $\\lambda$ will be:\n",
    "$$\\lambda_{ik} = \\frac{\\#\\{tweet\\mid tweet\\in S_k, x_i\\in tweet\\} + n\\cdot\\theta_k }{\\#S_k + n}$$\n",
    "\n",
    "$$\\theta_k=\\frac{\\#\\{(x, t)\\in S_k\\times L\\mid x\\in t\\}}{\\#S_k \\#L}$$\n",
    "Where $L$ is the vocabulary of words appearing in the train set."
   ]
  },
  {
   "cell_type": "markdown",
   "metadata": {},
   "source": [
    "### 3.1.2 Prediction\n",
    "\n",
    "After calibrating the model, we need to do a prediction for validation or test data.\n",
    "As described previously we will relly on $P\\left(y_k\\mid X\\right) =\\frac{P\\left( y_k\\right)}{Z} \\cdot \\prod_i P\\left( x_i\\mid y_k\\right)$\n",
    "\n",
    "For the poisson case we will have $$P\\left(y_k\\mid X\\right) = \\frac{P\\left( y_k\\right)}{Z}\\cdot \\exp{\\left(\\sum_i \\left(x_i\\cdot \\log\\lambda_{ik} - \\lambda_{ik}\\right)\\right)} $$\n",
    "\n",
    "Where $Z$ is a new normalization constant to handle the factors ($x_i!$) in the poisson distribution."
   ]
  },
  {
   "cell_type": "markdown",
   "metadata": {},
   "source": [
    "After this digression over the theory we can finally implement a proper model under the Scikit-learn API interface:"
   ]
  },
  {
   "cell_type": "markdown",
   "metadata": {},
   "source": [
    "### 3.1.3 Algorithm evaluation"
   ]
  },
  {
   "cell_type": "markdown",
   "metadata": {},
   "source": [
    "The performance evaluation of a predictive algorithm needs to be performed in a dataset which wasn't used for trainning.\n",
    "Therefore we do 3-fold cross validation: we split the training set in 3 parts. We train the model using two parts and measure its score using the remaining part (validation). We can do this three times by chaging the block that we are using to validate the model."
   ]
  },
  {
   "cell_type": "code",
   "execution_count": 19,
   "metadata": {},
   "outputs": [],
   "source": [
    "# we use 'text' and 'hashtags' as feature\n",
    "X = (df['text'] + \" \" + df[\"hashtags\"]).str.strip().str.replace(\"\\s+\", \" \").str.split(\" \").map(Counter)\n",
    "y = df['label']\n",
    "X_train = X[y.notnull()]\n",
    "y_train = y[y.notnull()]\n",
    "X_test = X[y.isnull()]"
   ]
  },
  {
   "cell_type": "code",
   "execution_count": 20,
   "metadata": {},
   "outputs": [],
   "source": [
    "clf = PoissonNaiveBayes()"
   ]
  },
  {
   "cell_type": "code",
   "execution_count": 21,
   "metadata": {},
   "outputs": [],
   "source": [
    "f1scores = cross_val_score(clf, X_train.values, y_train.values, scoring=\"f1\", cv=3, n_jobs=4)"
   ]
  },
  {
   "cell_type": "code",
   "execution_count": 22,
   "metadata": {},
   "outputs": [
    {
     "data": {
      "text/plain": [
       "0.2154438513120447"
      ]
     },
     "execution_count": 22,
     "metadata": {},
     "output_type": "execute_result"
    }
   ],
   "source": [
    "f1scores.mean()"
   ]
  },
  {
   "cell_type": "markdown",
   "metadata": {},
   "source": [
    "We fit now the model to the whole dataset to make our final submission:"
   ]
  },
  {
   "cell_type": "code",
   "execution_count": 23,
   "metadata": {},
   "outputs": [
    {
     "data": {
      "text/plain": [
       "PoissonNaiveBayes(n=1)"
      ]
     },
     "execution_count": 23,
     "metadata": {},
     "output_type": "execute_result"
    }
   ],
   "source": [
    "clf.fit(X_train, y_train)"
   ]
  },
  {
   "cell_type": "code",
   "execution_count": 24,
   "metadata": {},
   "outputs": [],
   "source": [
    "# prediction to submit\n",
    "y_pred = pd.Series(clf.predict(X_test), index=X_test.index)\n",
    "y_pred.to_frame(\"label\").to_csv(\"naive_n1_submission.csv\")"
   ]
  },
  {
   "cell_type": "markdown",
   "metadata": {},
   "source": [
    "### 3.1.4 Hyperparameter Tuning\n",
    "\n",
    "The regularization parameter $n$ we used above was set to 1, however, we can make our predictions using other values and evaluate the performances, using cross validation."
   ]
  },
  {
   "cell_type": "code",
   "execution_count": 25,
   "metadata": {},
   "outputs": [
    {
     "name": "stderr",
     "output_type": "stream",
     "text": [
      "[Parallel(n_jobs=8)]: Done   3 out of  30 | elapsed: 11.6min remaining: 104.7min\n",
      "[Parallel(n_jobs=8)]: Done   7 out of  30 | elapsed: 12.3min remaining: 40.4min\n",
      "[Parallel(n_jobs=8)]: Done  11 out of  30 | elapsed: 24.0min remaining: 41.5min\n",
      "[Parallel(n_jobs=8)]: Done  15 out of  30 | elapsed: 25.0min remaining: 25.0min\n",
      "[Parallel(n_jobs=8)]: Done  19 out of  30 | elapsed: 36.5min remaining: 21.1min\n",
      "[Parallel(n_jobs=8)]: Done  23 out of  30 | elapsed: 37.8min remaining: 11.5min\n",
      "[Parallel(n_jobs=8)]: Done  27 out of  30 | elapsed: 45.8min remaining:  5.1min\n",
      "[Parallel(n_jobs=8)]: Done  30 out of  30 | elapsed: 46.3min finished\n"
     ]
    },
    {
     "data": {
      "image/png": "[encoded data removed]",
      "text/plain": [
       "<Figure size 432x288 with 1 Axes>"
      ]
     },
     "metadata": {},
     "output_type": "display_data"
    }
   ],
   "source": [
    "validation_curve(clf, X_train, y_train, 'f1', 'n', 0, 8, n_points=10, log_scale=True, train_curve=False, cv=3, n_jobs=8)"
   ]
  },
  {
   "cell_type": "markdown",
   "metadata": {},
   "source": [
    "We choose $n=10^6$ as hyperparameter"
   ]
  },
  {
   "cell_type": "code",
   "execution_count": 25,
   "metadata": {},
   "outputs": [
    {
     "ename": "NameError",
     "evalue": "name 'custom_module' is not defined",
     "output_type": "error",
     "traceback": [
      "\u001b[1;31m---------------------------------------------------------------------------\u001b[0m",
      "\u001b[1;31mNameError\u001b[0m                                 Traceback (most recent call last)",
      "\u001b[1;32m<ipython-input-25-b317710d7bf3>\u001b[0m in \u001b[0;36m<module>\u001b[1;34m\u001b[0m\n\u001b[1;32m----> 1\u001b[1;33m \u001b[0mclf\u001b[0m \u001b[1;33m=\u001b[0m \u001b[0mcustom_module\u001b[0m\u001b[1;33m.\u001b[0m\u001b[0mPoissonNaiveBayes\u001b[0m\u001b[1;33m(\u001b[0m\u001b[0mn\u001b[0m\u001b[1;33m=\u001b[0m\u001b[1;36m1e6\u001b[0m\u001b[1;33m)\u001b[0m\u001b[1;33m\u001b[0m\u001b[0m\n\u001b[0m",
      "\u001b[1;31mNameError\u001b[0m: name 'custom_module' is not defined"
     ]
    }
   ],
   "source": [
    "clf = custom_module.PoissonNaiveBayes(n=1e6)"
   ]
  },
  {
   "cell_type": "code",
   "execution_count": null,
   "metadata": {},
   "outputs": [],
   "source": [
    "f1scores = cross_val_score(clf, X_train.values, y_train.values, scoring=\"f1\", cv=3, n_jobs=4)"
   ]
  },
  {
   "cell_type": "code",
   "execution_count": null,
   "metadata": {},
   "outputs": [],
   "source": [
    "f1scores.mean()"
   ]
  },
  {
   "cell_type": "code",
   "execution_count": null,
   "metadata": {},
   "outputs": [],
   "source": [
    "clf.fit(X_test)"
   ]
  },
  {
   "cell_type": "code",
   "execution_count": null,
   "metadata": {},
   "outputs": [],
   "source": [
    "# prediction to submit\n",
    "y_pred = pd.Series(clf.predict(X_test), index=X_test.index)\n",
    "y_pred.to_frame(\"label\").to_csv(\"naive_n10_6_submission.csv\")"
   ]
  },
  {
   "cell_type": "markdown",
   "metadata": {},
   "source": [
    "## 3.2 Logistic Regression"
   ]
  },
  {
   "cell_type": "markdown",
   "metadata": {},
   "source": [
    "Other model that we can use is a Logistic Regression. $y=s\\left(A\\cdot X\\right)$ "
   ]
  },
  {
   "cell_type": "code",
   "execution_count": null,
   "metadata": {},
   "outputs": [],
   "source": [
    "lr = make_pipeline(TfidfVectorizer(), LogisticRegression())"
   ]
  },
  {
   "cell_type": "code",
   "execution_count": null,
   "metadata": {},
   "outputs": [],
   "source": [
    "X = (df['text'] + \" \" + df[\"hashtags\"]).str.strip().str.replace(\"\\s+\", \" \")\n",
    "y = df['label']\n",
    "X_train = X[y.notnull()]\n",
    "y_train = y[y.notnull()]\n",
    "X_test = X[y.isnull()]"
   ]
  },
  {
   "cell_type": "code",
   "execution_count": null,
   "metadata": {},
   "outputs": [],
   "source": [
    "f1scores = cross_val_score(lr, X_train.values, y_train.values, scoring=\"f1\", cv=3, n_jobs=4)"
   ]
  },
  {
   "cell_type": "code",
   "execution_count": null,
   "metadata": {},
   "outputs": [],
   "source": [
    "f1scores"
   ]
  },
  {
   "cell_type": "code",
   "execution_count": null,
   "metadata": {},
   "outputs": [],
   "source": [
    "f1scores.mean()"
   ]
  },
  {
   "cell_type": "code",
   "execution_count": null,
   "metadata": {},
   "outputs": [],
   "source": [
    "validation_curve(lr, X_train, y_train, 'f1', 'logisticregression__C', 0, 6, n_points=10, log_scale=True, train_curve=False, cv=3, n_jobs=8)"
   ]
  },
  {
   "cell_type": "code",
   "execution_count": 82,
   "metadata": {},
   "outputs": [],
   "source": [
    "lr = make_pipeline(TfidfVectorizer(), LogisticRegression(C=1e2))"
   ]
  },
  {
   "cell_type": "code",
   "execution_count": null,
   "metadata": {},
   "outputs": [],
   "source": [
    "lr.fit(X_test)"
   ]
  },
  {
   "cell_type": "code",
   "execution_count": null,
   "metadata": {},
   "outputs": [],
   "source": [
    "# prediction to submit\n",
    "y_pred = pd.Series(clf.predict(X_test), index=X_test.index)\n",
    "y_pred.to_frame(\"label\").to_csv(\"naive_n10_6_submission.csv\")"
   ]
  },
  {
   "cell_type": "markdown",
   "metadata": {},
   "source": [
    "## 4. Learning Curve"
   ]
  },
  {
   "cell_type": "markdown",
   "metadata": {},
   "source": [
    "The learning curve shows how well an algorithm perform as function of the size of the training set.\n",
    "\n",
    "If a model is too complex for a given training dataset - there are too many degrees of freedom or parameters in this model - the model tens to overfit the training data and does not generalize well to unseen data.\n",
    "\n",
    "By plotting the model training and validation accuracies as functions of the training set size, we can easily detect wheder the model suggers from high variance (overfitting) or high bias (undefitting)."
   ]
  },
  {
   "cell_type": "code",
   "execution_count": 88,
   "metadata": {},
   "outputs": [
    {
     "data": {
      "image/png": "[encoded data removed]",
      "text/plain": [
       "<Figure size 432x288 with 1 Axes>"
      ]
     },
     "metadata": {},
     "output_type": "display_data"
    }
   ],
   "source": [
    "learning_curve(lr, X_train, y_train, scoring='f1', n_min=.1, n_max=1, n_points=10, log_scale=False, traincv=3, n_jobs=4)"
   ]
  },
  {
   "cell_type": "markdown",
   "metadata": {},
   "source": [
    "We can observe that the model performs almost perfectly in the training set, however, te score in the test set is much lower.\n",
    "Nonetheless, we also observe that the model benefits a lot with the incrise of the size of the training set. This suggests that, to "
   ]
  },
  {
   "cell_type": "markdown",
   "metadata": {},
   "source": [
    "## 5. Conclusions, recomendations and Next Steps"
   ]
  },
  {
   "cell_type": "markdown",
   "metadata": {},
   "source": [
    "In this project we used only one of the most basic machine learning algorithms: the naive bayes classifier.\n",
    "\n",
    "This algo has several advantages comparing with others. Due to it's 'naive' assumption, we actually\n",
    "\n",
    "Other models:\n",
    " * linear regression\n",
    " * word2vec"
   ]
  },
  {
   "cell_type": "code",
   "execution_count": null,
   "metadata": {},
   "outputs": [],
   "source": []
  }
 ],
 "metadata": {
  "kernelspec": {
   "display_name": "Python 3",
   "language": "python",
   "name": "python3"
  },
  "language_info": {
   "codemirror_mode": {
    "name": "ipython",
    "version": 3
   },
   "file_extension": ".py",
   "mimetype": "text/x-python",
   "name": "python",
   "nbconvert_exporter": "python",
   "pygments_lexer": "ipython3",
   "version": "3.6.5"
  }
 },
 "nbformat": 4,
 "nbformat_minor": 2
}
