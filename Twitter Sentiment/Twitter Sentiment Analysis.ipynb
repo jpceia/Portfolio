{
 "cells": [
  {
   "cell_type": "markdown",
   "metadata": {},
   "source": [
    "# Twitter Sentiment Analysis"
   ]
  },
  {
   "cell_type": "markdown",
   "metadata": {},
   "source": [
    "# 1. Problem description\n",
    "\n",
    "\n",
    "This project consists in a classification problem, where we try to predict if a  tweet consists of hate speech or not.\n",
    "The only data that we have access to are the tweets themselves, and the (binary) labels for the train set.\n",
    "\n",
    "Source:\n",
    "https://datahack.analyticsvidhya.com/contest/practice-problem-twitter-sentiment-analysis/\n"
   ]
  },
  {
   "cell_type": "code",
   "execution_count": 1,
   "metadata": {},
   "outputs": [],
   "source": [
    "# importing modules\n",
    "\n",
    "import pandas as pd\n",
    "import numpy as np\n",
    "import os\n",
    "from collections import Counter\n",
    "from unidecode import unidecode\n",
    "\n",
    "from sklearn.model_selection import cross_val_score\n",
    "from sklearn.linear_model import LogisticRegression\n",
    "from sklearn.pipeline import make_pipeline, make_union\n",
    "from sklearn.preprocessing import StandardScaler\n",
    "from sklearn.feature_extraction.text import TfidfVectorizer, CountVectorizer\n",
    "from sklearn.base import BaseEstimator, RegressorMixin, TransformerMixin\n",
    "\n",
    "# custom module\n",
    "from utils import validation_curve, learning_curve, TfidfEmbeddingVectorizer, ItemSelector\n",
    "\n",
    "%matplotlib inline "
   ]
  },
  {
   "cell_type": "markdown",
   "metadata": {},
   "source": [
    "# 2. Data Extraction and preprocessing"
   ]
  },
  {
   "cell_type": "code",
   "execution_count": 2,
   "metadata": {},
   "outputs": [],
   "source": [
    "df_train = pd.read_csv(\"data/train_E6oV3lV.csv\", index_col=[0])\n",
    "df_test = pd.read_csv(\"data/test_tweets_anuFYb8.csv\", index_col=[0])"
   ]
  },
  {
   "cell_type": "code",
   "execution_count": 3,
   "metadata": {},
   "outputs": [],
   "source": [
    "# to prepare the data, we merge train and test data in a single dataframe\n",
    "df = pd.concat([df_train, df_test], sort=False)"
   ]
  },
  {
   "cell_type": "markdown",
   "metadata": {},
   "source": [
    "We should take a look at the data (or a small sample of) to see how it looks like, and understand which kind of preprocessing it needs."
   ]
  },
  {
   "cell_type": "code",
   "execution_count": 4,
   "metadata": {},
   "outputs": [
    {
     "data": {
      "text/html": [
       "<div>\n",
       "<style scoped>\n",
       "    .dataframe tbody tr th:only-of-type {\n",
       "        vertical-align: middle;\n",
       "    }\n",
       "\n",
       "    .dataframe tbody tr th {\n",
       "        vertical-align: top;\n",
       "    }\n",
       "\n",
       "    .dataframe thead th {\n",
       "        text-align: right;\n",
       "    }\n",
       "</style>\n",
       "<table border=\"1\" class=\"dataframe\">\n",
       "  <thead>\n",
       "    <tr style=\"text-align: right;\">\n",
       "      <th></th>\n",
       "      <th>label</th>\n",
       "      <th>tweet</th>\n",
       "    </tr>\n",
       "    <tr>\n",
       "      <th>id</th>\n",
       "      <th></th>\n",
       "      <th></th>\n",
       "    </tr>\n",
       "  </thead>\n",
       "  <tbody>\n",
       "    <tr>\n",
       "      <th>1</th>\n",
       "      <td>0.0</td>\n",
       "      <td>@user when a father is dysfunctional and is so selfish he drags his kids into his dysfunction.   #run</td>\n",
       "    </tr>\n",
       "    <tr>\n",
       "      <th>2</th>\n",
       "      <td>0.0</td>\n",
       "      <td>@user @user thanks for #lyft credit i can't use cause they don't offer wheelchair vans in pdx.    #disapointed #getthanked</td>\n",
       "    </tr>\n",
       "    <tr>\n",
       "      <th>3</th>\n",
       "      <td>0.0</td>\n",
       "      <td>bihday your majesty</td>\n",
       "    </tr>\n",
       "    <tr>\n",
       "      <th>4</th>\n",
       "      <td>0.0</td>\n",
       "      <td>#model   i love u take with u all the time in urð±!!! ðððð",
       "ð¦ð¦ð¦</td>\n",
       "    </tr>\n",
       "    <tr>\n",
       "      <th>5</th>\n",
       "      <td>0.0</td>\n",
       "      <td>factsguide: society now    #motivation</td>\n",
       "    </tr>\n",
       "  </tbody>\n",
       "</table>\n",
       "</div>"
      ],
      "text/plain": [
       "    label  \\\n",
       "id          \n",
       "1     0.0   \n",
       "2     0.0   \n",
       "3     0.0   \n",
       "4     0.0   \n",
       "5     0.0   \n",
       "\n",
       "                                                                                                                         tweet  \n",
       "id                                                                                                                              \n",
       "1                        @user when a father is dysfunctional and is so selfish he drags his kids into his dysfunction.   #run  \n",
       "2   @user @user thanks for #lyft credit i can't use cause they don't offer wheelchair vans in pdx.    #disapointed #getthanked  \n",
       "3                                                                                                          bihday your majesty  \n",
       "4                                       #model   i love u take with u all the time in urð±!!! ðððð\n",
       "ð¦ð¦ð¦    \n",
       "5                                                                                       factsguide: society now    #motivation  "
      ]
     },
     "execution_count": 4,
     "metadata": {},
     "output_type": "execute_result"
    }
   ],
   "source": [
    "pd.set_option('max_colwidth', 600) # this ensures that we extend the width of the dataframe columns to see its full content\n",
    "df.head()"
   ]
  },
  {
   "cell_type": "markdown",
   "metadata": {},
   "source": [
    "We observe that:\n",
    "\n",
    "1. Some of the characters are not being correctly decoded. Therefore, we need to apply an extra step on data preparation to handle that.\n",
    "\n",
    "2. The words after the @'s should correspond to user accounts. Our sample seems to suggest that the references to different users were replaced simply by a '@user' tag. We are going to create a new feature with the number of references to users in a tweet.\n",
    "\n",
    "3. Apart from the references to other users, we can also distinguish between plain text and hashtags. Hence, we should separate those.\n",
    "\n",
    "4. We are also going to separate punctuation from the plain text - excluding commas, dots, and apostrophes - and count how many are used in each tweet."
   ]
  },
  {
   "cell_type": "code",
   "execution_count": 5,
   "metadata": {},
   "outputs": [],
   "source": [
    "df['tweet'] = df[\"tweet\"].map(unidecode)  # this corrects the incorrected decoded characters we observed above"
   ]
  },
  {
   "cell_type": "code",
   "execution_count": 6,
   "metadata": {},
   "outputs": [],
   "source": [
    "# counting the occurrences of the label '@user' in the tweet\n",
    "df['user_count'] = df['tweet'].str.findall(\"@user\").str.len()\n",
    "\n",
    "# removing the ocurrences of '@user' label in the twiit\n",
    "# note: we create a new column for this, called 'text', to keep the original tweet as well\n",
    "df['text'] = df['tweet'].str.replace('@user', ' ', regex=False)  "
   ]
  },
  {
   "cell_type": "code",
   "execution_count": 7,
   "metadata": {},
   "outputs": [],
   "source": [
    "df[\"punctuation\"] = df[\"text\"].str.replace(\"[\\w\\s#,;.']+\", \"\", regex=True)\n",
    "df[\"punc_count\"] = df[\"punctuation\"].str.len()"
   ]
  },
  {
   "cell_type": "code",
   "execution_count": 8,
   "metadata": {},
   "outputs": [],
   "source": [
    "# extracting the hashtags to a new column\n",
    "df['hashtags'] = df['tweet'].str.findall('#\\w+').map(lambda x: ' '.join(x))\n",
    "df['text'] = df['text'].str.replace('#\\w+', '', regex=True)"
   ]
  },
  {
   "cell_type": "code",
   "execution_count": 9,
   "metadata": {},
   "outputs": [],
   "source": [
    "# count hashtags\n",
    "df['ht_count'] = df['hashtags'].str.split().str.len()"
   ]
  },
  {
   "cell_type": "code",
   "execution_count": 10,
   "metadata": {},
   "outputs": [],
   "source": [
    "# we apply an extra step to 'text' columns, to santize the strings\n",
    "df['text'] = df['text'].map(lambda x: x.lower()).str.replace('\\W+', ' ', regex=True)"
   ]
  },
  {
   "cell_type": "code",
   "execution_count": 11,
   "metadata": {},
   "outputs": [
    {
     "data": {
      "text/html": [
       "<div>\n",
       "<style scoped>\n",
       "    .dataframe tbody tr th:only-of-type {\n",
       "        vertical-align: middle;\n",
       "    }\n",
       "\n",
       "    .dataframe tbody tr th {\n",
       "        vertical-align: top;\n",
       "    }\n",
       "\n",
       "    .dataframe thead th {\n",
       "        text-align: right;\n",
       "    }\n",
       "</style>\n",
       "<table border=\"1\" class=\"dataframe\">\n",
       "  <thead>\n",
       "    <tr style=\"text-align: right;\">\n",
       "      <th></th>\n",
       "      <th>label</th>\n",
       "      <th>tweet</th>\n",
       "      <th>user_count</th>\n",
       "      <th>text</th>\n",
       "      <th>punctuation</th>\n",
       "      <th>punc_count</th>\n",
       "      <th>hashtags</th>\n",
       "      <th>ht_count</th>\n",
       "    </tr>\n",
       "    <tr>\n",
       "      <th>id</th>\n",
       "      <th></th>\n",
       "      <th></th>\n",
       "      <th></th>\n",
       "      <th></th>\n",
       "      <th></th>\n",
       "      <th></th>\n",
       "      <th></th>\n",
       "      <th></th>\n",
       "    </tr>\n",
       "  </thead>\n",
       "  <tbody>\n",
       "    <tr>\n",
       "      <th>1</th>\n",
       "      <td>0.0</td>\n",
       "      <td>@user when a father is dysfunctional and is so selfish he drags his kids into his dysfunction.   #run</td>\n",
       "      <td>1</td>\n",
       "      <td>when a father is dysfunctional and is so selfish he drags his kids into his dysfunction</td>\n",
       "      <td></td>\n",
       "      <td>0</td>\n",
       "      <td>#run</td>\n",
       "      <td>1</td>\n",
       "    </tr>\n",
       "    <tr>\n",
       "      <th>2</th>\n",
       "      <td>0.0</td>\n",
       "      <td>@user @user thanks for #lyft credit i can't use cause they don't offer wheelchair vans in pdx.    #disapointed #getthanked</td>\n",
       "      <td>2</td>\n",
       "      <td>thanks for credit i can t use cause they don t offer wheelchair vans in pdx</td>\n",
       "      <td></td>\n",
       "      <td>0</td>\n",
       "      <td>#lyft #disapointed #getthanked</td>\n",
       "      <td>3</td>\n",
       "    </tr>\n",
       "    <tr>\n",
       "      <th>3</th>\n",
       "      <td>0.0</td>\n",
       "      <td>bihday your majesty</td>\n",
       "      <td>0</td>\n",
       "      <td>bihday your majesty</td>\n",
       "      <td></td>\n",
       "      <td>0</td>\n",
       "      <td></td>\n",
       "      <td>0</td>\n",
       "    </tr>\n",
       "    <tr>\n",
       "      <th>4</th>\n",
       "      <td>0.0</td>\n",
       "      <td>#model   i love u take with u all the time in urd+-!!! ddddd|d|d|</td>\n",
       "      <td>0</td>\n",
       "      <td>i love u take with u all the time in urd ddddd d d</td>\n",
       "      <td>+-!!!|||</td>\n",
       "      <td>8</td>\n",
       "      <td>#model</td>\n",
       "      <td>1</td>\n",
       "    </tr>\n",
       "    <tr>\n",
       "      <th>5</th>\n",
       "      <td>0.0</td>\n",
       "      <td>factsguide: society now    #motivation</td>\n",
       "      <td>0</td>\n",
       "      <td>factsguide society now</td>\n",
       "      <td>:</td>\n",
       "      <td>1</td>\n",
       "      <td>#motivation</td>\n",
       "      <td>1</td>\n",
       "    </tr>\n",
       "  </tbody>\n",
       "</table>\n",
       "</div>"
      ],
      "text/plain": [
       "    label  \\\n",
       "id          \n",
       "1     0.0   \n",
       "2     0.0   \n",
       "3     0.0   \n",
       "4     0.0   \n",
       "5     0.0   \n",
       "\n",
       "                                                                                                                         tweet  \\\n",
       "id                                                                                                                               \n",
       "1                        @user when a father is dysfunctional and is so selfish he drags his kids into his dysfunction.   #run   \n",
       "2   @user @user thanks for #lyft credit i can't use cause they don't offer wheelchair vans in pdx.    #disapointed #getthanked   \n",
       "3                                                                                                          bihday your majesty   \n",
       "4                                                          #model   i love u take with u all the time in urd+-!!! ddddd|d|d|     \n",
       "5                                                                                       factsguide: society now    #motivation   \n",
       "\n",
       "    user_count  \\\n",
       "id               \n",
       "1            1   \n",
       "2            2   \n",
       "3            0   \n",
       "4            0   \n",
       "5            0   \n",
       "\n",
       "                                                                                         text  \\\n",
       "id                                                                                              \n",
       "1    when a father is dysfunctional and is so selfish he drags his kids into his dysfunction    \n",
       "2                thanks for credit i can t use cause they don t offer wheelchair vans in pdx    \n",
       "3                                                                         bihday your majesty   \n",
       "4                                         i love u take with u all the time in urd ddddd d d    \n",
       "5                                                                     factsguide society now    \n",
       "\n",
       "   punctuation  punc_count                        hashtags  ht_count  \n",
       "id                                                                    \n",
       "1                        0                            #run         1  \n",
       "2                        0  #lyft #disapointed #getthanked         3  \n",
       "3                        0                                         0  \n",
       "4     +-!!!|||           8                          #model         1  \n",
       "5            :           1                     #motivation         1  "
      ]
     },
     "execution_count": 11,
     "metadata": {},
     "output_type": "execute_result"
    }
   ],
   "source": [
    "# showing prepared data:\n",
    "df.head()"
   ]
  },
  {
   "cell_type": "markdown",
   "metadata": {},
   "source": [
    "# 3. Exploratory Data Analysis"
   ]
  },
  {
   "cell_type": "markdown",
   "metadata": {},
   "source": [
    "As we did above, we should take a look at data, but now spliting it for the two types of labels (hate and 'non hate' tweets)"
   ]
  },
  {
   "cell_type": "code",
   "execution_count": 12,
   "metadata": {},
   "outputs": [
    {
     "name": "stdout",
     "output_type": "stream",
     "text": [
      "train set size: 31962\n",
      "test set size: 17197\n"
     ]
    }
   ],
   "source": [
    "# size of train and test data\n",
    "print('train set size:', len(df_train))\n",
    "print('test set size:', len(df_test))"
   ]
  },
  {
   "cell_type": "code",
   "execution_count": 13,
   "metadata": {},
   "outputs": [
    {
     "data": {
      "text/plain": [
       "label\n",
       "0    0.929854\n",
       "1    0.070146\n",
       "Name: tweet, dtype: float64"
      ]
     },
     "execution_count": 13,
     "metadata": {},
     "output_type": "execute_result"
    }
   ],
   "source": [
    "df_train.groupby('label')['tweet'].count() / df_train['tweet'].count()"
   ]
  },
  {
   "cell_type": "markdown",
   "metadata": {},
   "source": [
    "=> 7% of the tweets have hate speech"
   ]
  },
  {
   "cell_type": "markdown",
   "metadata": {},
   "source": [
    "## 3.1 How does the hate speech looks like?"
   ]
  },
  {
   "cell_type": "code",
   "execution_count": 14,
   "metadata": {
    "scrolled": true
   },
   "outputs": [
    {
     "data": {
      "text/html": [
       "<div>\n",
       "<style scoped>\n",
       "    .dataframe tbody tr th:only-of-type {\n",
       "        vertical-align: middle;\n",
       "    }\n",
       "\n",
       "    .dataframe tbody tr th {\n",
       "        vertical-align: top;\n",
       "    }\n",
       "\n",
       "    .dataframe thead th {\n",
       "        text-align: right;\n",
       "    }\n",
       "</style>\n",
       "<table border=\"1\" class=\"dataframe\">\n",
       "  <thead>\n",
       "    <tr style=\"text-align: right;\">\n",
       "      <th></th>\n",
       "      <th>label</th>\n",
       "      <th>tweet</th>\n",
       "      <th>user_count</th>\n",
       "      <th>text</th>\n",
       "      <th>punctuation</th>\n",
       "      <th>punc_count</th>\n",
       "      <th>hashtags</th>\n",
       "      <th>ht_count</th>\n",
       "    </tr>\n",
       "    <tr>\n",
       "      <th>id</th>\n",
       "      <th></th>\n",
       "      <th></th>\n",
       "      <th></th>\n",
       "      <th></th>\n",
       "      <th></th>\n",
       "      <th></th>\n",
       "      <th></th>\n",
       "      <th></th>\n",
       "    </tr>\n",
       "  </thead>\n",
       "  <tbody>\n",
       "    <tr>\n",
       "      <th>14</th>\n",
       "      <td>1.0</td>\n",
       "      <td>@user #cnn calls #michigan middle school 'build the wall' chant '' #tcot</td>\n",
       "      <td>1</td>\n",
       "      <td>calls middle school build the wall chant</td>\n",
       "      <td></td>\n",
       "      <td>0</td>\n",
       "      <td>#cnn #michigan #tcot</td>\n",
       "      <td>3</td>\n",
       "    </tr>\n",
       "    <tr>\n",
       "      <th>15</th>\n",
       "      <td>1.0</td>\n",
       "      <td>no comment!  in #australia   #opkillingbay #seashepherd #helpcovedolphins #thecove  #helpcovedolphins</td>\n",
       "      <td>0</td>\n",
       "      <td>no comment in</td>\n",
       "      <td>!</td>\n",
       "      <td>1</td>\n",
       "      <td>#australia #opkillingbay #seashepherd #helpcovedolphins #thecove #helpcovedolphins</td>\n",
       "      <td>6</td>\n",
       "    </tr>\n",
       "    <tr>\n",
       "      <th>18</th>\n",
       "      <td>1.0</td>\n",
       "      <td>retweet if you agree!</td>\n",
       "      <td>0</td>\n",
       "      <td>retweet if you agree</td>\n",
       "      <td>!</td>\n",
       "      <td>1</td>\n",
       "      <td></td>\n",
       "      <td>0</td>\n",
       "    </tr>\n",
       "    <tr>\n",
       "      <th>24</th>\n",
       "      <td>1.0</td>\n",
       "      <td>@user @user lumpy says i am a . prove it lumpy.</td>\n",
       "      <td>2</td>\n",
       "      <td>lumpy says i am a prove it lumpy</td>\n",
       "      <td></td>\n",
       "      <td>0</td>\n",
       "      <td></td>\n",
       "      <td>0</td>\n",
       "    </tr>\n",
       "    <tr>\n",
       "      <th>35</th>\n",
       "      <td>1.0</td>\n",
       "      <td>it's unbelievable that in the 21st century we'd need something like this. again. #neverump  #xenophobia</td>\n",
       "      <td>0</td>\n",
       "      <td>it s unbelievable that in the 21st century we d need something like this again</td>\n",
       "      <td></td>\n",
       "      <td>0</td>\n",
       "      <td>#neverump #xenophobia</td>\n",
       "      <td>2</td>\n",
       "    </tr>\n",
       "    <tr>\n",
       "      <th>57</th>\n",
       "      <td>1.0</td>\n",
       "      <td>@user lets fight against  #love #peace</td>\n",
       "      <td>1</td>\n",
       "      <td>lets fight against</td>\n",
       "      <td></td>\n",
       "      <td>0</td>\n",
       "      <td>#love #peace</td>\n",
       "      <td>2</td>\n",
       "    </tr>\n",
       "    <tr>\n",
       "      <th>69</th>\n",
       "      <td>1.0</td>\n",
       "      <td>d(c)the white establishment can't have blk folx running around loving themselves and promoting our greatness</td>\n",
       "      <td>0</td>\n",
       "      <td>d c the white establishment can t have blk folx running around loving themselves and promoting our greatness</td>\n",
       "      <td>()</td>\n",
       "      <td>2</td>\n",
       "      <td></td>\n",
       "      <td>0</td>\n",
       "    </tr>\n",
       "    <tr>\n",
       "      <th>78</th>\n",
       "      <td>1.0</td>\n",
       "      <td>@user hey, white people: you can call people 'white' by @user  #race  #identity #meda|</td>\n",
       "      <td>2</td>\n",
       "      <td>hey white people you can call people white by</td>\n",
       "      <td>:|</td>\n",
       "      <td>2</td>\n",
       "      <td>#race #identity #meda</td>\n",
       "      <td>3</td>\n",
       "    </tr>\n",
       "    <tr>\n",
       "      <th>83</th>\n",
       "      <td>1.0</td>\n",
       "      <td>how the #altright uses  &amp;amp; insecurity to lure men into #whitesupremacy</td>\n",
       "      <td>0</td>\n",
       "      <td>how the uses amp insecurity to lure men into</td>\n",
       "      <td>&amp;</td>\n",
       "      <td>1</td>\n",
       "      <td>#altright #whitesupremacy</td>\n",
       "      <td>2</td>\n",
       "    </tr>\n",
       "    <tr>\n",
       "      <th>112</th>\n",
       "      <td>1.0</td>\n",
       "      <td>@user i'm not interested in a #linguistics that doesn't address #race &amp;amp; . racism is about #power. #raciolinguistics bringsa|</td>\n",
       "      <td>1</td>\n",
       "      <td>i m not interested in a that doesn t address amp racism is about bringsa</td>\n",
       "      <td>&amp;|</td>\n",
       "      <td>2</td>\n",
       "      <td>#linguistics #race #power #raciolinguistics</td>\n",
       "      <td>4</td>\n",
       "    </tr>\n",
       "  </tbody>\n",
       "</table>\n",
       "</div>"
      ],
      "text/plain": [
       "     label  \\\n",
       "id           \n",
       "14     1.0   \n",
       "15     1.0   \n",
       "18     1.0   \n",
       "24     1.0   \n",
       "35     1.0   \n",
       "57     1.0   \n",
       "69     1.0   \n",
       "78     1.0   \n",
       "83     1.0   \n",
       "112    1.0   \n",
       "\n",
       "                                                                                                                                tweet  \\\n",
       "id                                                                                                                                      \n",
       "14                                                         @user #cnn calls #michigan middle school 'build the wall' chant '' #tcot     \n",
       "15                              no comment!  in #australia   #opkillingbay #seashepherd #helpcovedolphins #thecove  #helpcovedolphins   \n",
       "18                                                                                                             retweet if you agree!    \n",
       "24                                                                                    @user @user lumpy says i am a . prove it lumpy.   \n",
       "35                           it's unbelievable that in the 21st century we'd need something like this. again. #neverump  #xenophobia    \n",
       "57                                                                                            @user lets fight against  #love #peace    \n",
       "69                     d(c)the white establishment can't have blk folx running around loving themselves and promoting our greatness     \n",
       "78                                             @user hey, white people: you can call people 'white' by @user  #race  #identity #meda|   \n",
       "83                                                      how the #altright uses  &amp; insecurity to lure men into #whitesupremacy       \n",
       "112  @user i'm not interested in a #linguistics that doesn't address #race &amp; . racism is about #power. #raciolinguistics bringsa|   \n",
       "\n",
       "     user_count  \\\n",
       "id                \n",
       "14            1   \n",
       "15            0   \n",
       "18            0   \n",
       "24            2   \n",
       "35            0   \n",
       "57            1   \n",
       "69            0   \n",
       "78            2   \n",
       "83            0   \n",
       "112           1   \n",
       "\n",
       "                                                                                                              text  \\\n",
       "id                                                                                                                   \n",
       "14                                                                       calls middle school build the wall chant    \n",
       "15                                                                                                  no comment in    \n",
       "18                                                                                           retweet if you agree    \n",
       "24                                                                               lumpy says i am a prove it lumpy    \n",
       "35                                 it s unbelievable that in the 21st century we d need something like this again    \n",
       "57                                                                                             lets fight against    \n",
       "69   d c the white establishment can t have blk folx running around loving themselves and promoting our greatness    \n",
       "78                                                                  hey white people you can call people white by    \n",
       "83                                                                   how the uses amp insecurity to lure men into    \n",
       "112                                      i m not interested in a that doesn t address amp racism is about bringsa    \n",
       "\n",
       "    punctuation  punc_count  \\\n",
       "id                            \n",
       "14                        0   \n",
       "15            !           1   \n",
       "18            !           1   \n",
       "24                        0   \n",
       "35                        0   \n",
       "57                        0   \n",
       "69           ()           2   \n",
       "78           :|           2   \n",
       "83            &           1   \n",
       "112          &|           2   \n",
       "\n",
       "                                                                               hashtags  \\\n",
       "id                                                                                        \n",
       "14                                                                 #cnn #michigan #tcot   \n",
       "15   #australia #opkillingbay #seashepherd #helpcovedolphins #thecove #helpcovedolphins   \n",
       "18                                                                                        \n",
       "24                                                                                        \n",
       "35                                                                #neverump #xenophobia   \n",
       "57                                                                         #love #peace   \n",
       "69                                                                                        \n",
       "78                                                                #race #identity #meda   \n",
       "83                                                            #altright #whitesupremacy   \n",
       "112                                         #linguistics #race #power #raciolinguistics   \n",
       "\n",
       "     ht_count  \n",
       "id             \n",
       "14          3  \n",
       "15          6  \n",
       "18          0  \n",
       "24          0  \n",
       "35          2  \n",
       "57          2  \n",
       "69          0  \n",
       "78          3  \n",
       "83          2  \n",
       "112         4  "
      ]
     },
     "execution_count": 14,
     "metadata": {},
     "output_type": "execute_result"
    }
   ],
   "source": [
    "df[df[\"label\"] == 1].head(10)"
   ]
  },
  {
   "cell_type": "markdown",
   "metadata": {},
   "source": [
    "Examples of 'Non hate' speech"
   ]
  },
  {
   "cell_type": "code",
   "execution_count": 15,
   "metadata": {},
   "outputs": [
    {
     "data": {
      "text/html": [
       "<div>\n",
       "<style scoped>\n",
       "    .dataframe tbody tr th:only-of-type {\n",
       "        vertical-align: middle;\n",
       "    }\n",
       "\n",
       "    .dataframe tbody tr th {\n",
       "        vertical-align: top;\n",
       "    }\n",
       "\n",
       "    .dataframe thead th {\n",
       "        text-align: right;\n",
       "    }\n",
       "</style>\n",
       "<table border=\"1\" class=\"dataframe\">\n",
       "  <thead>\n",
       "    <tr style=\"text-align: right;\">\n",
       "      <th></th>\n",
       "      <th>label</th>\n",
       "      <th>tweet</th>\n",
       "      <th>user_count</th>\n",
       "      <th>text</th>\n",
       "      <th>punctuation</th>\n",
       "      <th>punc_count</th>\n",
       "      <th>hashtags</th>\n",
       "      <th>ht_count</th>\n",
       "    </tr>\n",
       "    <tr>\n",
       "      <th>id</th>\n",
       "      <th></th>\n",
       "      <th></th>\n",
       "      <th></th>\n",
       "      <th></th>\n",
       "      <th></th>\n",
       "      <th></th>\n",
       "      <th></th>\n",
       "      <th></th>\n",
       "    </tr>\n",
       "  </thead>\n",
       "  <tbody>\n",
       "    <tr>\n",
       "      <th>1</th>\n",
       "      <td>0.0</td>\n",
       "      <td>@user when a father is dysfunctional and is so selfish he drags his kids into his dysfunction.   #run</td>\n",
       "      <td>1</td>\n",
       "      <td>when a father is dysfunctional and is so selfish he drags his kids into his dysfunction</td>\n",
       "      <td></td>\n",
       "      <td>0</td>\n",
       "      <td>#run</td>\n",
       "      <td>1</td>\n",
       "    </tr>\n",
       "    <tr>\n",
       "      <th>2</th>\n",
       "      <td>0.0</td>\n",
       "      <td>@user @user thanks for #lyft credit i can't use cause they don't offer wheelchair vans in pdx.    #disapointed #getthanked</td>\n",
       "      <td>2</td>\n",
       "      <td>thanks for credit i can t use cause they don t offer wheelchair vans in pdx</td>\n",
       "      <td></td>\n",
       "      <td>0</td>\n",
       "      <td>#lyft #disapointed #getthanked</td>\n",
       "      <td>3</td>\n",
       "    </tr>\n",
       "    <tr>\n",
       "      <th>3</th>\n",
       "      <td>0.0</td>\n",
       "      <td>bihday your majesty</td>\n",
       "      <td>0</td>\n",
       "      <td>bihday your majesty</td>\n",
       "      <td></td>\n",
       "      <td>0</td>\n",
       "      <td></td>\n",
       "      <td>0</td>\n",
       "    </tr>\n",
       "    <tr>\n",
       "      <th>4</th>\n",
       "      <td>0.0</td>\n",
       "      <td>#model   i love u take with u all the time in urd+-!!! ddddd|d|d|</td>\n",
       "      <td>0</td>\n",
       "      <td>i love u take with u all the time in urd ddddd d d</td>\n",
       "      <td>+-!!!|||</td>\n",
       "      <td>8</td>\n",
       "      <td>#model</td>\n",
       "      <td>1</td>\n",
       "    </tr>\n",
       "    <tr>\n",
       "      <th>5</th>\n",
       "      <td>0.0</td>\n",
       "      <td>factsguide: society now    #motivation</td>\n",
       "      <td>0</td>\n",
       "      <td>factsguide society now</td>\n",
       "      <td>:</td>\n",
       "      <td>1</td>\n",
       "      <td>#motivation</td>\n",
       "      <td>1</td>\n",
       "    </tr>\n",
       "    <tr>\n",
       "      <th>6</th>\n",
       "      <td>0.0</td>\n",
       "      <td>[2/2] huge fan fare and big talking before they leave. chaos and pay disputes when they get there. #allshowandnogo</td>\n",
       "      <td>0</td>\n",
       "      <td>2 2 huge fan fare and big talking before they leave chaos and pay disputes when they get there</td>\n",
       "      <td>[/]</td>\n",
       "      <td>3</td>\n",
       "      <td>#allshowandnogo</td>\n",
       "      <td>1</td>\n",
       "    </tr>\n",
       "    <tr>\n",
       "      <th>7</th>\n",
       "      <td>0.0</td>\n",
       "      <td>@user camping tomorrow @user @user @user @user @user @user @user dannya|</td>\n",
       "      <td>8</td>\n",
       "      <td>camping tomorrow dannya</td>\n",
       "      <td>|</td>\n",
       "      <td>1</td>\n",
       "      <td></td>\n",
       "      <td>0</td>\n",
       "    </tr>\n",
       "    <tr>\n",
       "      <th>8</th>\n",
       "      <td>0.0</td>\n",
       "      <td>the next school year is the year for exams.d- can't think about that d #school #exams   #hate #imagine #actorslife #revolutionschool #girl</td>\n",
       "      <td>0</td>\n",
       "      <td>the next school year is the year for exams d can t think about that d</td>\n",
       "      <td>-</td>\n",
       "      <td>1</td>\n",
       "      <td>#school #exams #hate #imagine #actorslife #revolutionschool #girl</td>\n",
       "      <td>7</td>\n",
       "    </tr>\n",
       "    <tr>\n",
       "      <th>9</th>\n",
       "      <td>0.0</td>\n",
       "      <td>we won!!! love the land!!! #allin #cavs #champions #cleveland #clevelandcavaliers  a|</td>\n",
       "      <td>0</td>\n",
       "      <td>we won love the land a</td>\n",
       "      <td>!!!!!!|</td>\n",
       "      <td>7</td>\n",
       "      <td>#allin #cavs #champions #cleveland #clevelandcavaliers</td>\n",
       "      <td>5</td>\n",
       "    </tr>\n",
       "    <tr>\n",
       "      <th>10</th>\n",
       "      <td>0.0</td>\n",
       "      <td>@user @user welcome here !  i'm   it's so #gr8 !</td>\n",
       "      <td>2</td>\n",
       "      <td>welcome here i m it s so</td>\n",
       "      <td>!!</td>\n",
       "      <td>2</td>\n",
       "      <td>#gr8</td>\n",
       "      <td>1</td>\n",
       "    </tr>\n",
       "  </tbody>\n",
       "</table>\n",
       "</div>"
      ],
      "text/plain": [
       "    label  \\\n",
       "id          \n",
       "1     0.0   \n",
       "2     0.0   \n",
       "3     0.0   \n",
       "4     0.0   \n",
       "5     0.0   \n",
       "6     0.0   \n",
       "7     0.0   \n",
       "8     0.0   \n",
       "9     0.0   \n",
       "10    0.0   \n",
       "\n",
       "                                                                                                                                         tweet  \\\n",
       "id                                                                                                                                               \n",
       "1                                        @user when a father is dysfunctional and is so selfish he drags his kids into his dysfunction.   #run   \n",
       "2                   @user @user thanks for #lyft credit i can't use cause they don't offer wheelchair vans in pdx.    #disapointed #getthanked   \n",
       "3                                                                                                                          bihday your majesty   \n",
       "4                                                                          #model   i love u take with u all the time in urd+-!!! ddddd|d|d|     \n",
       "5                                                                                                       factsguide: society now    #motivation   \n",
       "6                         [2/2] huge fan fare and big talking before they leave. chaos and pay disputes when they get there. #allshowandnogo     \n",
       "7                                                                     @user camping tomorrow @user @user @user @user @user @user @user dannya|   \n",
       "8   the next school year is the year for exams.d- can't think about that d #school #exams   #hate #imagine #actorslife #revolutionschool #girl   \n",
       "9                                                       we won!!! love the land!!! #allin #cavs #champions #cleveland #clevelandcavaliers  a|    \n",
       "10                                                                                           @user @user welcome here !  i'm   it's so #gr8 !    \n",
       "\n",
       "    user_count  \\\n",
       "id               \n",
       "1            1   \n",
       "2            2   \n",
       "3            0   \n",
       "4            0   \n",
       "5            0   \n",
       "6            0   \n",
       "7            8   \n",
       "8            0   \n",
       "9            0   \n",
       "10           2   \n",
       "\n",
       "                                                                                                text  \\\n",
       "id                                                                                                     \n",
       "1           when a father is dysfunctional and is so selfish he drags his kids into his dysfunction    \n",
       "2                       thanks for credit i can t use cause they don t offer wheelchair vans in pdx    \n",
       "3                                                                                bihday your majesty   \n",
       "4                                                i love u take with u all the time in urd ddddd d d    \n",
       "5                                                                            factsguide society now    \n",
       "6    2 2 huge fan fare and big talking before they leave chaos and pay disputes when they get there    \n",
       "7                                                                           camping tomorrow dannya    \n",
       "8                             the next school year is the year for exams d can t think about that d    \n",
       "9                                                                            we won love the land a    \n",
       "10                                                                         welcome here i m it s so    \n",
       "\n",
       "   punctuation  punc_count  \\\n",
       "id                           \n",
       "1                        0   \n",
       "2                        0   \n",
       "3                        0   \n",
       "4     +-!!!|||           8   \n",
       "5            :           1   \n",
       "6          [/]           3   \n",
       "7            |           1   \n",
       "8            -           1   \n",
       "9      !!!!!!|           7   \n",
       "10          !!           2   \n",
       "\n",
       "                                                             hashtags  \\\n",
       "id                                                                      \n",
       "1                                                                #run   \n",
       "2                                      #lyft #disapointed #getthanked   \n",
       "3                                                                       \n",
       "4                                                              #model   \n",
       "5                                                         #motivation   \n",
       "6                                                     #allshowandnogo   \n",
       "7                                                                       \n",
       "8   #school #exams #hate #imagine #actorslife #revolutionschool #girl   \n",
       "9              #allin #cavs #champions #cleveland #clevelandcavaliers   \n",
       "10                                                               #gr8   \n",
       "\n",
       "    ht_count  \n",
       "id            \n",
       "1          1  \n",
       "2          3  \n",
       "3          0  \n",
       "4          1  \n",
       "5          1  \n",
       "6          1  \n",
       "7          0  \n",
       "8          7  \n",
       "9          5  \n",
       "10         1  "
      ]
     },
     "execution_count": 15,
     "metadata": {},
     "output_type": "execute_result"
    }
   ],
   "source": [
    "df[df[\"label\"] == 0].head(10)"
   ]
  },
  {
   "cell_type": "markdown",
   "metadata": {},
   "source": [
    "## 3.2 Most frequent Hashtags"
   ]
  },
  {
   "cell_type": "code",
   "execution_count": 16,
   "metadata": {},
   "outputs": [],
   "source": [
    "vec = CountVectorizer()\n",
    "vec.fit(df['hashtags'])\n",
    "\n",
    "df_ht = pd.DataFrame.sparse.from_spmatrix(\n",
    "    vec.transform(df['hashtags']),\n",
    "    index=df.index, columns=vec.get_feature_names()\n",
    ")"
   ]
  },
  {
   "cell_type": "code",
   "execution_count": 17,
   "metadata": {},
   "outputs": [],
   "source": [
    "# we count the hashtags - only for train data\n",
    "htCount_0 = df_ht[df['label'] == 0].sum(0)\n",
    "htCount_1 = df_ht[df['label'] == 1].sum(0)\n",
    "htCount = htCount_0 + htCount_1"
   ]
  },
  {
   "cell_type": "code",
   "execution_count": 18,
   "metadata": {},
   "outputs": [],
   "source": [
    "table = pd.DataFrame({'tot': htCount, 0: htCount_0, 1: htCount_1}).fillna(0)"
   ]
  },
  {
   "cell_type": "code",
   "execution_count": 19,
   "metadata": {},
   "outputs": [
    {
     "data": {
      "text/html": [
       "<div>\n",
       "<style scoped>\n",
       "    .dataframe tbody tr th:only-of-type {\n",
       "        vertical-align: middle;\n",
       "    }\n",
       "\n",
       "    .dataframe tbody tr th {\n",
       "        vertical-align: top;\n",
       "    }\n",
       "\n",
       "    .dataframe thead th {\n",
       "        text-align: right;\n",
       "    }\n",
       "</style>\n",
       "<table border=\"1\" class=\"dataframe\">\n",
       "  <thead>\n",
       "    <tr style=\"text-align: right;\">\n",
       "      <th></th>\n",
       "      <th>tot</th>\n",
       "      <th>0</th>\n",
       "      <th>1</th>\n",
       "    </tr>\n",
       "  </thead>\n",
       "  <tbody>\n",
       "    <tr>\n",
       "      <th>love</th>\n",
       "      <td>1542</td>\n",
       "      <td>1531</td>\n",
       "      <td>11</td>\n",
       "    </tr>\n",
       "    <tr>\n",
       "      <th>positive</th>\n",
       "      <td>874</td>\n",
       "      <td>874</td>\n",
       "      <td>0</td>\n",
       "    </tr>\n",
       "    <tr>\n",
       "      <th>healthy</th>\n",
       "      <td>571</td>\n",
       "      <td>570</td>\n",
       "      <td>1</td>\n",
       "    </tr>\n",
       "    <tr>\n",
       "      <th>smile</th>\n",
       "      <td>548</td>\n",
       "      <td>548</td>\n",
       "      <td>0</td>\n",
       "    </tr>\n",
       "    <tr>\n",
       "      <th>thankful</th>\n",
       "      <td>491</td>\n",
       "      <td>491</td>\n",
       "      <td>0</td>\n",
       "    </tr>\n",
       "  </tbody>\n",
       "</table>\n",
       "</div>"
      ],
      "text/plain": [
       "           tot     0   1\n",
       "love      1542  1531  11\n",
       "positive   874   874   0\n",
       "healthy    571   570   1\n",
       "smile      548   548   0\n",
       "thankful   491   491   0"
      ]
     },
     "execution_count": 19,
     "metadata": {},
     "output_type": "execute_result"
    }
   ],
   "source": [
    "# most frequency hash tags - both hate and non hte speech\n",
    "table.sort_values(by='tot', ascending=False).head()"
   ]
  },
  {
   "cell_type": "code",
   "execution_count": 20,
   "metadata": {},
   "outputs": [
    {
     "data": {
      "text/html": [
       "<div>\n",
       "<style scoped>\n",
       "    .dataframe tbody tr th:only-of-type {\n",
       "        vertical-align: middle;\n",
       "    }\n",
       "\n",
       "    .dataframe tbody tr th {\n",
       "        vertical-align: top;\n",
       "    }\n",
       "\n",
       "    .dataframe thead th {\n",
       "        text-align: right;\n",
       "    }\n",
       "</style>\n",
       "<table border=\"1\" class=\"dataframe\">\n",
       "  <thead>\n",
       "    <tr style=\"text-align: right;\">\n",
       "      <th></th>\n",
       "      <th>tot</th>\n",
       "      <th>0</th>\n",
       "      <th>1</th>\n",
       "    </tr>\n",
       "  </thead>\n",
       "  <tbody>\n",
       "    <tr>\n",
       "      <th>trump</th>\n",
       "      <td>176</td>\n",
       "      <td>43</td>\n",
       "      <td>133</td>\n",
       "    </tr>\n",
       "    <tr>\n",
       "      <th>politics</th>\n",
       "      <td>99</td>\n",
       "      <td>5</td>\n",
       "      <td>94</td>\n",
       "    </tr>\n",
       "    <tr>\n",
       "      <th>allahsoil</th>\n",
       "      <td>92</td>\n",
       "      <td>0</td>\n",
       "      <td>92</td>\n",
       "    </tr>\n",
       "    <tr>\n",
       "      <th>libtard</th>\n",
       "      <td>77</td>\n",
       "      <td>1</td>\n",
       "      <td>76</td>\n",
       "    </tr>\n",
       "    <tr>\n",
       "      <th>liberal</th>\n",
       "      <td>78</td>\n",
       "      <td>3</td>\n",
       "      <td>75</td>\n",
       "    </tr>\n",
       "  </tbody>\n",
       "</table>\n",
       "</div>"
      ],
      "text/plain": [
       "           tot   0    1\n",
       "trump      176  43  133\n",
       "politics    99   5   94\n",
       "allahsoil   92   0   92\n",
       "libtard     77   1   76\n",
       "liberal     78   3   75"
      ]
     },
     "execution_count": 20,
     "metadata": {},
     "output_type": "execute_result"
    }
   ],
   "source": [
    "# most frequenct hashtags for hatespeech\n",
    "table.sort_values(by=1, ascending=False).head()"
   ]
  },
  {
   "cell_type": "markdown",
   "metadata": {},
   "source": [
    "## 3.3 Can 'user_count', 'ht_count' or 'punc_count' features spot hate speech?"
   ]
  },
  {
   "cell_type": "code",
   "execution_count": 21,
   "metadata": {},
   "outputs": [
    {
     "data": {
      "text/html": [
       "<div>\n",
       "<style scoped>\n",
       "    .dataframe tbody tr th:only-of-type {\n",
       "        vertical-align: middle;\n",
       "    }\n",
       "\n",
       "    .dataframe tbody tr th {\n",
       "        vertical-align: top;\n",
       "    }\n",
       "\n",
       "    .dataframe thead tr th {\n",
       "        text-align: left;\n",
       "    }\n",
       "\n",
       "    .dataframe thead tr:last-of-type th {\n",
       "        text-align: right;\n",
       "    }\n",
       "</style>\n",
       "<table border=\"1\" class=\"dataframe\">\n",
       "  <thead>\n",
       "    <tr>\n",
       "      <th></th>\n",
       "      <th colspan=\"2\" halign=\"left\">user_count</th>\n",
       "      <th colspan=\"2\" halign=\"left\">ht_count</th>\n",
       "      <th colspan=\"2\" halign=\"left\">punc_count</th>\n",
       "    </tr>\n",
       "    <tr>\n",
       "      <th></th>\n",
       "      <th>mean</th>\n",
       "      <th>std</th>\n",
       "      <th>mean</th>\n",
       "      <th>std</th>\n",
       "      <th>mean</th>\n",
       "      <th>std</th>\n",
       "    </tr>\n",
       "    <tr>\n",
       "      <th>label</th>\n",
       "      <th></th>\n",
       "      <th></th>\n",
       "      <th></th>\n",
       "      <th></th>\n",
       "      <th></th>\n",
       "      <th></th>\n",
       "    </tr>\n",
       "  </thead>\n",
       "  <tbody>\n",
       "    <tr>\n",
       "      <th>0.0</th>\n",
       "      <td>0.528533</td>\n",
       "      <td>0.971373</td>\n",
       "      <td>2.405821</td>\n",
       "      <td>2.530931</td>\n",
       "      <td>1.504004</td>\n",
       "      <td>2.183570</td>\n",
       "    </tr>\n",
       "    <tr>\n",
       "      <th>1.0</th>\n",
       "      <td>0.830955</td>\n",
       "      <td>1.097019</td>\n",
       "      <td>2.138715</td>\n",
       "      <td>2.063241</td>\n",
       "      <td>1.384032</td>\n",
       "      <td>1.539361</td>\n",
       "    </tr>\n",
       "  </tbody>\n",
       "</table>\n",
       "</div>"
      ],
      "text/plain": [
       "      user_count            ht_count           punc_count          \n",
       "            mean       std      mean       std       mean       std\n",
       "label                                                              \n",
       "0.0     0.528533  0.971373  2.405821  2.530931   1.504004  2.183570\n",
       "1.0     0.830955  1.097019  2.138715  2.063241   1.384032  1.539361"
      ]
     },
     "execution_count": 21,
     "metadata": {},
     "output_type": "execute_result"
    }
   ],
   "source": [
    "df.groupby('label').agg({'user_count': [np.mean, np.std], 'ht_count': [np.mean, np.std], 'punc_count': [np.mean, np.std]})"
   ]
  },
  {
   "cell_type": "markdown",
   "metadata": {},
   "source": [
    "We conclude that those features alone cannot be used to spot hate speech.\n",
    "\n",
    "Considering a law $X\\mid Y\\sim\\mathcal{N}\\left(\\mu_Y,\\sigma_Y\\right)$ for each of those counts, to state that $\\mu_{Y=1}\\neq\\mu_{Y=0}$ with, for instance 90% confidence, would require $|\\mu_1  -\\mu_0|>1.64 \\sqrt{\\sigma_0^2 +\\sigma_1^2}$, which if far from being the case."
   ]
  },
  {
   "cell_type": "markdown",
   "metadata": {},
   "source": [
    "# 4. Prediction"
   ]
  },
  {
   "cell_type": "markdown",
   "metadata": {},
   "source": [
    "## 4.1 Poisson Naive Bayes Model\n",
    "\n",
    "The Poisson Bayes Model is an attempt to model label data $y$ with a probability distribution $P(y\\mid X)$, where $X$ are the features.\n",
    "\n",
    "\n",
    "1. **The 'Bayes' part:** In some cases it is more natural to model $P(X|y)$ instead of $P(y\\mid X)$. The bayes law relates these two conditional probabilities through $P\\left(y\\mid X\\right)=P\\left(X\\mid y\\right)\\cdot\\frac{P(y)}{P(X)}$. Furthermore, assuming that the set of possible labels is discrete (in this case y is 0 or 1), we can write $P\\left(y_k\\mid X\\right) =P\\left( X\\mid y\\right) \\cdot\\frac{P\\left( y_k\\right)}{Z}$, where $Z = \\sum_k P(y_k)\\cdot P\\left( X\\mid y_k \\right)$. (in the continuous case we can use an integral instead of a sum).\n",
    "\n",
    "\n",
    "2. **The 'Naive' part** comes from the assumption that the different features $X=\\left(x_1, \\cdots,x_n\\right)$ are independent (conditional to each label), i.e, it is assumed that $P\\left(X\\mid y_k\\right) =P\\left( x_1\\mid y_k\\right)\\cdots P\\left( x_n\\mid y_k\\right)\\forall k$.\n",
    "\n",
    "\n",
    "3. **The 'Poisson' part** comes from the probability family distribution we choose for model each $P\\left(x_i\\mid y_k\\right)$. In this case, because we are dealing with count data, it is suitable to choose a poisson distribution $x_i|y_k\\sim Poi(\\lambda_{ik})$, which depends only on one parameter $\\lambda$, which is equal to its expectation."
   ]
  },
  {
   "cell_type": "markdown",
   "metadata": {},
   "source": [
    "### 4.1.1 Training\n",
    "\n",
    "In a training stage, we need to determine the $\\lambda_{ik}$ parameters, using training data.\n",
    "\n",
    "1. If our prior assumption for this parameter is uniform then we only need to make a straighfoward use of the frequencies from the training set.\n",
    "   Therefore, for a given word $x_i$ and a given class $y_k$ our estimation is:\n",
    "   $$\\lambda_{ik} = \\frac{\\#\\{tweet\\mid tweet\\in S_k, x_i\\in tweet\\} }{\\#S_k}$$\n",
    "   Where each $S_k$ is the set of tweets with label $k$\n",
    "   \n",
    "&rarr; Having a uniform prior can lead to issues when applying the model to new tweets with new words, because $p\\left(x\\mid \\lambda=0\\right)=0 \\,\\forall x>0$\n",
    "\n",
    "We should then have a prior assumption, equivalent to observe $n$ tweets with an observation rate $\\theta_k$.\n",
    "\n",
    "2. Under the informal description we made above, we know that the conjugate prior for the poisson distribution is a gamma distribution $\\Gamma$ with parameters $\\alpha_{prior}=n\\cdot\\theta_k$ and $\\beta_{prior}=n$.\n",
    "\n",
    "After the observation (using train data), we get a posterior distribution with parameters  $\\alpha_{posterior}=n\\cdot\\theta_k+\\#\\{tweet\\mid tweet\\in S_k, x_i\\in tweet\\}$ and $\\beta_{posterior}=n + \\#S_k$.\n",
    "\n",
    "Therefore our final estimation for $\\lambda$ is:\n",
    "$$\\lambda_{ik} = \\frac{\\#\\{tweet\\mid tweet\\in S_k, x_i\\in tweet\\} + n\\cdot\\theta_k }{\\#S_k + n}$$\n",
    "\n",
    "$$\\theta_k=\\frac{\\#\\{(x, t)\\in S_k\\times L\\mid x\\in t\\}}{\\#S_k \\#L}$$\n",
    "$L$ is the vocabulary of words appearing in the train set."
   ]
  },
  {
   "cell_type": "markdown",
   "metadata": {},
   "source": [
    "### 4.1.2 Prediction\n",
    "\n",
    "After calibrating the model, we need to do a prediction for validation or test data.\n",
    "As described previously we will relly on $P\\left(y_k\\mid X\\right) =\\frac{P\\left( y_k\\right)}{Z} \\cdot \\prod_i P\\left( x_i\\mid y_k\\right)$\n",
    "\n",
    "For the poisson case this leads to $$P\\left(y_k\\mid X\\right) = \\frac{P\\left( y_k\\right)}{Z}\\cdot \\exp{\\left(\\sum_i \\left(x_i\\cdot \\log\\lambda_{ik} - \\lambda_{ik}\\right)\\right)} $$\n",
    "\n",
    "Where $Z$ is a new normalization constant."
   ]
  },
  {
   "cell_type": "markdown",
   "metadata": {},
   "source": [
    "After this digression over the theory, we can implement a model under the Scikit-learn API interface."
   ]
  },
  {
   "cell_type": "code",
   "execution_count": 22,
   "metadata": {},
   "outputs": [],
   "source": [
    "class PoissonNaiveBayes(BaseEstimator, RegressorMixin):\n",
    "    def __init__(self, n=1, min_df=1e-4, max_df=0.7):\n",
    "        self.n = n\n",
    "        self.min_df = min_df\n",
    "        self.max_df = max_df\n",
    "\n",
    "    def fit(self, X, y):\n",
    "        self.vectorizer = CountVectorizer(min_df=self.min_df, max_df=self.max_df)\n",
    "        self.n0_ = (y == 0).sum() # S0\n",
    "        self.n1_ = (y == 1).sum() # S1\n",
    "        X = self.vectorizer.fit_transform(X) #.toarray()\n",
    "        X0 = X[y == 0].sum(0) # {tweet|tweet\\in S_0, x_i \\in tweet}\n",
    "        X1 = X[y == 1].sum(0) # {tweet|tweet\\in S_0, x_i \\in tweet}\n",
    "        self.theta0_ = X0.mean() / self.n0_ # theta0\n",
    "        self.theta1_ = X1.mean() / self.n1_ # theta1\n",
    "        self.l0_ = (X0 + self.n * self.theta0_) / (self.n0_ + self.n) # \\lambda_i0\n",
    "        self.l1_ = (X1 + self.n * self.theta0_) / (self.n1_ + self.n) # \\lambda_i1\n",
    "        return self\n",
    "\n",
    "    def predict_proba(self, X):\n",
    "        from scipy.special import expit\n",
    "        # we assume each X[i] is a counter\n",
    "        L0 = self.l0_.sum()\n",
    "        L1 = self.l1_.sum()\n",
    "        X = self.vectorizer.transform(X)\n",
    "        p0 = np.log(self.n0_) + X @ np.log(self.l0_.T) - L0\n",
    "        p1 = np.log(self.n1_) + X @ np.log(self.l1_.T) - L1\n",
    "        return np.ravel(expit(p1 - p0))\n",
    "\n",
    "    def predict(self, X):\n",
    "        return self.predict_proba(X) > .5"
   ]
  },
  {
   "cell_type": "markdown",
   "metadata": {},
   "source": [
    "### 3.1.3 Algorithm evaluation"
   ]
  },
  {
   "cell_type": "markdown",
   "metadata": {},
   "source": [
    "To evaluate the performance of a predictive algorithm, it is needed to use new data that was not previously used to fit the model.\n",
    "\n",
    "As the samples we have access are scarce, one way to extract more from it and obtain a more precise result is to apply cross-validation.\n",
    "\n",
    "We will split the initial training set into 3 parts (3-fold cross-validation) and train the model using two parts and measure its score using the remaining part (validation set). After, we can rotate our blocks and repeat the same procedure, k-1 times."
   ]
  },
  {
   "cell_type": "markdown",
   "metadata": {},
   "source": [
    "The scoring metric we use is given by $F_1=2\\cdot\\frac{precision\\cdot recall}{precision+recall}$\n",
    "\n",
    "where $precision = \\frac{TRUE\\,POSITIVE}{TRUE\\,POSITIVE + FALSE\\,POSITIVE}$, $recall = \\frac{TRUE\\,POSITIVE}{TRUE\\,POSITIVE + FALSE\\,NEGATIVE}$\n",
    "\n",
    "One of the advantages of the F1 score is that it takes into consideration the impact of precision and recall simultaneously."
   ]
  },
  {
   "cell_type": "code",
   "execution_count": 23,
   "metadata": {},
   "outputs": [],
   "source": [
    "# we use both 'text' and 'hashtags' as features\n",
    "X = (df['text'] + \" \" + df[\"hashtags\"]).str.strip().str.replace('\\s+', ' ', regex=True)\n",
    "y = df['label']\n",
    "X_train = X[y.notnull()]\n",
    "y_train = y[y.notnull()]\n",
    "X_test = X[y.isnull()]"
   ]
  },
  {
   "cell_type": "code",
   "execution_count": 24,
   "metadata": {},
   "outputs": [],
   "source": [
    "clf = PoissonNaiveBayes(n=1)"
   ]
  },
  {
   "cell_type": "code",
   "execution_count": 25,
   "metadata": {},
   "outputs": [],
   "source": [
    "f1scores = cross_val_score(clf, X_train.values, y_train.values, scoring=\"f1\", cv=3, n_jobs=4)"
   ]
  },
  {
   "cell_type": "markdown",
   "metadata": {},
   "source": [
    "The mean score we obtain is:"
   ]
  },
  {
   "cell_type": "code",
   "execution_count": 26,
   "metadata": {},
   "outputs": [
    {
     "name": "stdout",
     "output_type": "stream",
     "text": [
      "0.6379274810533233 +- 0.01581198399521418\n"
     ]
    }
   ],
   "source": [
    "print(f1scores.mean(), \"+-\", f1scores.std())"
   ]
  },
  {
   "cell_type": "markdown",
   "metadata": {},
   "source": [
    "We fit now the model to the whole dataset to make our final submission in the website:"
   ]
  },
  {
   "cell_type": "code",
   "execution_count": 27,
   "metadata": {},
   "outputs": [
    {
     "data": {
      "text/plain": [
       "PoissonNaiveBayes()"
      ]
     },
     "execution_count": 27,
     "metadata": {},
     "output_type": "execute_result"
    }
   ],
   "source": [
    "clf.fit(X_train, y_train)"
   ]
  },
  {
   "cell_type": "code",
   "execution_count": 28,
   "metadata": {},
   "outputs": [],
   "source": [
    "# function to create a dataframe for submission, with the right format\n",
    "def submission(clf, X):\n",
    "    y_pred = 1.0 * clf.predict(X)\n",
    "    idx = pd.Index(X.index)\n",
    "    idx.name = 'id'\n",
    "    return pd.DataFrame({'label': y_pred}, index=idx)"
   ]
  },
  {
   "cell_type": "code",
   "execution_count": 29,
   "metadata": {},
   "outputs": [],
   "source": [
    "# saving submission\n",
    "submission(clf, X_test).to_csv(\"submissions/naive_n1.csv\")"
   ]
  },
  {
   "cell_type": "markdown",
   "metadata": {},
   "source": [
    "Score from submission (test set): 0.2287188306104901"
   ]
  },
  {
   "cell_type": "markdown",
   "metadata": {},
   "source": [
    "### 3.1.4 Hyperparameter Tuning\n",
    "\n",
    "The regularization parameter $n$ was set to 1 in the previous example. However, we can make our predictions using other values of n and evaluate the new scores, using cross validation."
   ]
  },
  {
   "cell_type": "code",
   "execution_count": 30,
   "metadata": {
    "scrolled": true
   },
   "outputs": [
    {
     "name": "stderr",
     "output_type": "stream",
     "text": [
      "[Parallel(n_jobs=8)]: Using backend LokyBackend with 8 concurrent workers.\n",
      "[Parallel(n_jobs=8)]: Done   2 out of  33 | elapsed:    8.0s remaining:  2.1min\n",
      "[Parallel(n_jobs=8)]: Done   6 out of  33 | elapsed:    8.2s remaining:   37.2s\n",
      "[Parallel(n_jobs=8)]: Done  10 out of  33 | elapsed:   10.3s remaining:   23.9s\n",
      "[Parallel(n_jobs=8)]: Done  14 out of  33 | elapsed:   10.6s remaining:   14.5s\n",
      "[Parallel(n_jobs=8)]: Done  18 out of  33 | elapsed:   12.8s remaining:   10.6s\n",
      "[Parallel(n_jobs=8)]: Done  22 out of  33 | elapsed:   13.2s remaining:    6.5s\n",
      "[Parallel(n_jobs=8)]: Done  26 out of  33 | elapsed:   15.3s remaining:    4.0s\n",
      "[Parallel(n_jobs=8)]: Done  30 out of  33 | elapsed:   15.7s remaining:    1.5s\n",
      "[Parallel(n_jobs=8)]: Done  33 out of  33 | elapsed:   16.7s finished\n"
     ]
    },
    {
     "data": {
      "image/png": "[encoded data removed]",
      "text/plain": [
       "<Figure size 432x288 with 1 Axes>"
      ]
     },
     "metadata": {
      "needs_background": "light"
     },
     "output_type": "display_data"
    }
   ],
   "source": [
    "# the validation_curve function is defined in tmp_module.py\n",
    "validation_curve(clf, X_train, y_train, 'f1', 'n', 0, 5, n_points=11, log_scale=True, train_curve=False, cv=3, n_jobs=8)"
   ]
  },
  {
   "cell_type": "markdown",
   "metadata": {},
   "source": [
    "-> the choice of $n$ has a big impact on the final score.\n",
    "\n",
    "We choose $n=10^2$"
   ]
  },
  {
   "cell_type": "code",
   "execution_count": 31,
   "metadata": {},
   "outputs": [],
   "source": [
    "clf = PoissonNaiveBayes(n=1e2)"
   ]
  },
  {
   "cell_type": "code",
   "execution_count": 32,
   "metadata": {},
   "outputs": [],
   "source": [
    "f1scores = cross_val_score(clf, X_train.values, y_train.values, scoring=\"f1\", cv=3, n_jobs=4)"
   ]
  },
  {
   "cell_type": "markdown",
   "metadata": {},
   "source": [
    "With the new hyperparameter $n$, the score we obtain is:"
   ]
  },
  {
   "cell_type": "code",
   "execution_count": 33,
   "metadata": {},
   "outputs": [
    {
     "name": "stdout",
     "output_type": "stream",
     "text": [
      "0.6563809254822884 +- 0.00837803684556181\n"
     ]
    }
   ],
   "source": [
    "print(f1scores.mean(), \"+-\", f1scores.std())"
   ]
  },
  {
   "cell_type": "code",
   "execution_count": 34,
   "metadata": {},
   "outputs": [],
   "source": [
    "clf.fit(X_train, y_train)  # We fit now the model to the whole dataset to make our final submission in the website\n",
    "\n",
    "# saving submission\n",
    "submission(clf, X_test).to_csv(\"naive_n10_2_submission.csv\")"
   ]
  },
  {
   "cell_type": "markdown",
   "metadata": {},
   "source": [
    "Score from submission (test set): 0.4054910242872228"
   ]
  },
  {
   "cell_type": "markdown",
   "metadata": {},
   "source": [
    "### 4.2 Logistic Regression"
   ]
  },
  {
   "cell_type": "markdown",
   "metadata": {},
   "source": [
    "Other model we can use is the Logistic Regression: $y=s\\left(A\\cdot X\\right)$, where $s: t \\mapsto \\frac{1}{1+e^{-t}}$ is the sigmoid function."
   ]
  },
  {
   "cell_type": "markdown",
   "metadata": {},
   "source": [
    "We will use plain text and hashtags from tweets as features, however, in this case we will apply a tf-idf transformation instead of using straight word counts.\n",
    "\n",
    "The tf-idf transformation increases the weight of words that are less frequent among the among the set of tweets. "
   ]
  },
  {
   "cell_type": "code",
   "execution_count": 35,
   "metadata": {},
   "outputs": [],
   "source": [
    "lr = make_pipeline(TfidfVectorizer(min_df=1e-4, max_df=0.7), LogisticRegression())"
   ]
  },
  {
   "cell_type": "code",
   "execution_count": 36,
   "metadata": {},
   "outputs": [],
   "source": [
    "X = (df['text'] + \" \" + df[\"hashtags\"]).str.strip().str.replace(\"\\s+\", \" \", regex=True)\n",
    "y = df['label']\n",
    "X_train = X[y.notnull()]\n",
    "y_train = y[y.notnull()]\n",
    "X_test = X[y.isnull()]"
   ]
  },
  {
   "cell_type": "code",
   "execution_count": 37,
   "metadata": {},
   "outputs": [],
   "source": [
    "f1scores = cross_val_score(lr, X_train.values, y_train.values, scoring=\"f1\", cv=3, n_jobs=4)"
   ]
  },
  {
   "cell_type": "markdown",
   "metadata": {},
   "source": [
    "With the standard hyperparameter $C=1$ (we are considering $l_2$ regularization), the mean score we obtain is:"
   ]
  },
  {
   "cell_type": "code",
   "execution_count": 38,
   "metadata": {},
   "outputs": [
    {
     "name": "stdout",
     "output_type": "stream",
     "text": [
      "0.4375432402767622 +- 0.02183406945126648\n"
     ]
    }
   ],
   "source": [
    "print(f1scores.mean(), \"+-\", f1scores.std())"
   ]
  },
  {
   "cell_type": "markdown",
   "metadata": {},
   "source": [
    "##### Hyperparameter tunning:"
   ]
  },
  {
   "cell_type": "code",
   "execution_count": 39,
   "metadata": {},
   "outputs": [
    {
     "name": "stderr",
     "output_type": "stream",
     "text": [
      "[Parallel(n_jobs=8)]: Using backend LokyBackend with 8 concurrent workers.\n",
      "[Parallel(n_jobs=8)]: Done   2 out of  15 | elapsed:    8.5s remaining:   55.7s\n",
      "[Parallel(n_jobs=8)]: Done   4 out of  15 | elapsed:    8.9s remaining:   24.6s\n",
      "[Parallel(n_jobs=8)]: Done   6 out of  15 | elapsed:    8.9s remaining:   13.5s\n",
      "[Parallel(n_jobs=8)]: Done   8 out of  15 | elapsed:    9.2s remaining:    8.0s\n",
      "[Parallel(n_jobs=8)]: Done  10 out of  15 | elapsed:   11.6s remaining:    5.8s\n",
      "[Parallel(n_jobs=8)]: Done  12 out of  15 | elapsed:   12.0s remaining:    2.9s\n",
      "[Parallel(n_jobs=8)]: Done  15 out of  15 | elapsed:   12.1s finished\n"
     ]
    },
    {
     "data": {
      "image/png": "[encoded data removed]",
      "text/plain": [
       "<Figure size 432x288 with 1 Axes>"
      ]
     },
     "metadata": {
      "needs_background": "light"
     },
     "output_type": "display_data"
    }
   ],
   "source": [
    "validation_curve(lr, X_train, y_train, 'f1', 'logisticregression__C', 0, 4, n_points=5, log_scale=True, train_curve=False, cv=3, n_jobs=8)"
   ]
  },
  {
   "cell_type": "markdown",
   "metadata": {},
   "source": [
    "Based on the validation curve above we choose $C=10^2$ as regularization parameter."
   ]
  },
  {
   "cell_type": "code",
   "execution_count": 40,
   "metadata": {},
   "outputs": [],
   "source": [
    "lr = make_pipeline(TfidfVectorizer(min_df=1e-4, max_df=0.7), LogisticRegression(C=1e2, max_iter=1000))"
   ]
  },
  {
   "cell_type": "code",
   "execution_count": 41,
   "metadata": {},
   "outputs": [],
   "source": [
    "f1scores = cross_val_score(lr, X_train.values, y_train.values, scoring=\"f1\", cv=3, n_jobs=4)"
   ]
  },
  {
   "cell_type": "markdown",
   "metadata": {},
   "source": [
    "With the new hyperparameter $C=10^2$, the mean score we obtain is:"
   ]
  },
  {
   "cell_type": "code",
   "execution_count": 42,
   "metadata": {},
   "outputs": [
    {
     "name": "stdout",
     "output_type": "stream",
     "text": [
      "0.6683332211957409 +- 0.020044241733067812\n"
     ]
    }
   ],
   "source": [
    "print(f1scores.mean(), \"+-\", f1scores.std())"
   ]
  },
  {
   "cell_type": "markdown",
   "metadata": {},
   "source": [
    "We fit now the model to the whole dataset to make our final submission in the website:"
   ]
  },
  {
   "cell_type": "code",
   "execution_count": 43,
   "metadata": {},
   "outputs": [
    {
     "data": {
      "text/plain": [
       "Pipeline(steps=[('tfidfvectorizer', TfidfVectorizer(max_df=0.7, min_df=0.0001)),\n",
       "                ('logisticregression',\n",
       "                 LogisticRegression(C=100.0, max_iter=1000))])"
      ]
     },
     "execution_count": 43,
     "metadata": {},
     "output_type": "execute_result"
    }
   ],
   "source": [
    "lr.fit(X_train, y_train)"
   ]
  },
  {
   "cell_type": "code",
   "execution_count": 44,
   "metadata": {},
   "outputs": [],
   "source": [
    "# saving submission\n",
    "submission(lr, X_test).to_csv(\"submissions/regression.csv\")"
   ]
  },
  {
   "cell_type": "markdown",
   "metadata": {},
   "source": [
    "Score from submission (test set): 0.749615975422427"
   ]
  },
  {
   "cell_type": "markdown",
   "metadata": {},
   "source": [
    "### 4.2.1 Learning Curve"
   ]
  },
  {
   "cell_type": "markdown",
   "metadata": {},
   "source": [
    "The learning curve shows how well an algorithm perform as a function of the size of the training set."
   ]
  },
  {
   "cell_type": "code",
   "execution_count": null,
   "metadata": {},
   "outputs": [],
   "source": [
    "learning_curve(lr, X_train, y_train, scoring='f1', n_min=.1, n_max=1, n_points=10, log_scale=False, cv=3, n_jobs=4)"
   ]
  },
  {
   "cell_type": "markdown",
   "metadata": {},
   "source": [
    "The graph indicates that the model suffers has high variance – it tends to overfit the training data and does not generalize well to unseen data - which is likely to reduce if more training data is provided."
   ]
  },
  {
   "cell_type": "markdown",
   "metadata": {},
   "source": [
    "### 4.2.2 Using other features"
   ]
  },
  {
   "cell_type": "markdown",
   "metadata": {},
   "source": [
    "Instead of using tf-idf directly, we can use other features and combinations of transformations to feed the logistic regression:"
   ]
  },
  {
   "cell_type": "code",
   "execution_count": null,
   "metadata": {},
   "outputs": [],
   "source": [
    "lr2 = make_pipeline(\n",
    "    make_union(\n",
    "        make_pipeline(ItemSelector('text'), TfidfVectorizer(min_df=1e-4, max_df=0.7)),\n",
    "        make_pipeline(ItemSelector('hashtags'), TfidfVectorizer(min_df=1e-4, max_df=0.7)),\n",
    "        make_pipeline(ItemSelector(['user_count', 'punc_count', 'ht_count']), StandardScaler())),\n",
    "    LogisticRegression(C=1e2, max_iter=1000))"
   ]
  },
  {
   "cell_type": "code",
   "execution_count": null,
   "metadata": {},
   "outputs": [],
   "source": [
    "X_train  = df[df['label'].notnull()]\n",
    "y_train = df['label'][df['label'].notnull()]\n",
    "X_test = df[df['label'].isnull()]"
   ]
  },
  {
   "cell_type": "code",
   "execution_count": null,
   "metadata": {},
   "outputs": [],
   "source": [
    "f1scores = cross_val_score(lr2, X_train, y_train, scoring=\"f1\", cv=3, n_jobs=4)"
   ]
  },
  {
   "cell_type": "code",
   "execution_count": null,
   "metadata": {},
   "outputs": [],
   "source": [
    "print(f1scores.mean(), \"+-\", f1scores.std())"
   ]
  },
  {
   "cell_type": "code",
   "execution_count": null,
   "metadata": {},
   "outputs": [],
   "source": [
    "lr2.fit(X_train, y_train)\n",
    "\n",
    "# saving submission\n",
    "submission(lr2, X_test).to_csv(\"submissions/regression2.csv\")"
   ]
  },
  {
   "cell_type": "markdown",
   "metadata": {},
   "source": [
    "Score from submission (test set): 0.7473200612557427\n",
    "\n",
    "-> we conclude that the model doesn't improve by using the new features"
   ]
  },
  {
   "cell_type": "markdown",
   "metadata": {},
   "source": [
    "### 4.2.3 Extracting word meaning using Word2Vec\n",
    "\n",
    "We can use a pre-trained model to map from words to vectors of real numbers in a vectorial space with much lower dimension.\n",
    "With word2vec this map should respect semantic relations between words to the maximum. Therefore, words with a similar meaning must be mapped to vectors that are close to each other, even if their lexicon is very different."
   ]
  },
  {
   "cell_type": "code",
   "execution_count": 13,
   "metadata": {},
   "outputs": [
    {
     "name": "stderr",
     "output_type": "stream",
     "text": [
      "C:\\ProgramData\\Anaconda3\\lib\\site-packages\\gensim\\utils.py:1197: UserWarning: detected Windows; aliasing chunkize to chunkize_serial\n",
      "  warnings.warn(\"detected Windows; aliasing chunkize to chunkize_serial\")\n"
     ]
    }
   ],
   "source": [
    "# file extracted from https://drive.google.com/uc?export=download&confirm=TpPo&id=0B7XkCwpI5KDYNlNUTTlSS21pQmM\n",
    "from gensim.models.keyedvectors import KeyedVectors\n",
    "dico = KeyedVectors.load_word2vec_format(\"GoogleNews-vectors-negative300.bin.gz\", binary=True)\n",
    "tf = TfidfEmbeddingVectorizer(dico)  # model defined in tmp_module.py"
   ]
  },
  {
   "cell_type": "markdown",
   "metadata": {},
   "source": [
    "we apply the same pipeline as in the previous examples:"
   ]
  },
  {
   "cell_type": "code",
   "execution_count": 14,
   "metadata": {},
   "outputs": [],
   "source": [
    "lr_w2v = make_pipeline(\n",
    "    make_union(\n",
    "        make_pipeline(ItemSelector('text'), TfidfVectorizer()),\n",
    "        make_pipeline(ItemSelector('hashtags'), TfidfVectorizer()),\n",
    "        make_pipeline(ItemSelector('text'), tf)),\n",
    "    LogisticRegression(C=1e2))"
   ]
  },
  {
   "cell_type": "code",
   "execution_count": 17,
   "metadata": {},
   "outputs": [
    {
     "name": "stderr",
     "output_type": "stream",
     "text": [
      "[Parallel(n_jobs=8)]: Done   2 out of   2 | elapsed:  9.6min remaining:    0.0s\n",
      "[Parallel(n_jobs=8)]: Done   3 out of   3 | elapsed: 13.3min remaining:    0.0s\n",
      "[Parallel(n_jobs=8)]: Done   4 out of   4 | elapsed: 17.5min remaining:    0.0s\n",
      "[Parallel(n_jobs=8)]: Done   5 out of   5 | elapsed: 20.4min remaining:    0.0s\n",
      "[Parallel(n_jobs=8)]: Done   6 out of   6 | elapsed: 22.6min remaining:    0.0s\n",
      "[Parallel(n_jobs=8)]: Done   9 out of   9 | elapsed: 30.6min remaining:    0.0s\n",
      "[Parallel(n_jobs=8)]: Done  30 out of  30 | elapsed: 76.2min finished\n"
     ]
    },
    {
     "data": {
      "image/png": "[encoded data removed]",
      "text/plain": [
       "<Figure size 432x288 with 1 Axes>"
      ]
     },
     "metadata": {},
     "output_type": "display_data"
    }
   ],
   "source": [
    "validation_curve(lr_w2v, X_train, y_train, 'f1', 'logisticregression__C', 0, 8, n_points=10, log_scale=True, train_curve=False, cv=3, n_jobs=8)"
   ]
  },
  {
   "cell_type": "code",
   "execution_count": 23,
   "metadata": {},
   "outputs": [],
   "source": [
    "lr_w2v.steps[1][1].C = 1e3"
   ]
  },
  {
   "cell_type": "code",
   "execution_count": 24,
   "metadata": {},
   "outputs": [],
   "source": [
    "f1scores = cross_val_score(lr_w2v, X_train, y_train, scoring=\"f1\", cv=3)"
   ]
  },
  {
   "cell_type": "code",
   "execution_count": 25,
   "metadata": {},
   "outputs": [
    {
     "name": "stdout",
     "output_type": "stream",
     "text": [
      "0.6297846518294202 +- 0.03947178403142573\n"
     ]
    }
   ],
   "source": [
    "print(f1scores.mean(), \"+-\", f1scores.std())"
   ]
  },
  {
   "cell_type": "code",
   "execution_count": 26,
   "metadata": {},
   "outputs": [
    {
     "data": {
      "text/plain": [
       "Pipeline(memory=None,\n",
       "     steps=[('featureunion', FeatureUnion(n_jobs=1,\n",
       "       transformer_list=[('pipeline-1', Pipeline(memory=None,\n",
       "     steps=[('itemselector', ItemSelector(key='text')), ('tfidfvectorizer', TfidfVectorizer(analyzer='word', binary=False, decode_error='strict',\n",
       "        dtype=<class 'numpy.int64'>, encoding...ty='l2', random_state=None,\n",
       "          solver='liblinear', tol=0.0001, verbose=0, warm_start=False))])"
      ]
     },
     "execution_count": 26,
     "metadata": {},
     "output_type": "execute_result"
    }
   ],
   "source": [
    "lr_w2v.fit(X_train, y_train)"
   ]
  },
  {
   "cell_type": "code",
   "execution_count": 27,
   "metadata": {},
   "outputs": [],
   "source": [
    "submission(lr_w2v, X_test).to_csv(\"submissions/w2v.csv\")"
   ]
  },
  {
   "cell_type": "markdown",
   "metadata": {},
   "source": [
    "Score from submission (test set): 0.6301369863013699"
   ]
  },
  {
   "cell_type": "markdown",
   "metadata": {},
   "source": [
    "## 5. Conclusion and recommendations"
   ]
  },
  {
   "cell_type": "markdown",
   "metadata": {},
   "source": [
    "In this project, we analysed if tweets consisted of hate speech or not, just looking at their content.\n",
    "\n",
    "One of the first conclusions we reach is that correlation between features matters. This is the main reason why Naïve Bayes performance is so poor compared with the Logistic Regression. We can understand this intuitively: there are words that usually only appear coupled with another one.\n",
    "\n",
    "A second conclusion is that using more complex models and more features don't lead to better results necessarily. We observed this in point 4.2.2 where we made use of '@user' tags count and punctuation count features, and in point 4.2.3, where we used Word2Vec together with a logistic regression.\n",
    "\n",
    "Although we didn’t make an extensive analysis, the logistic regression with tf-idf, proved to be quite efficient compared with the other models.\n",
    "Observing the behaviour of the learning curve, we can also infer that this model will increase its performance if more training data is available. \n",
    "Therefore, one recommendation is to try to get more training data, before digging in more complex models."
   ]
  }
 ],
 "metadata": {
  "kernelspec": {
   "display_name": "Python 3 (ipykernel)",
   "language": "python",
   "name": "python3"
  },
  "language_info": {
   "codemirror_mode": {
    "name": "ipython",
    "version": 3
   },
   "file_extension": ".py",
   "mimetype": "text/x-python",
   "name": "python",
   "nbconvert_exporter": "python",
   "pygments_lexer": "ipython3",
   "version": "3.9.7"
  }
 },
 "nbformat": 4,
 "nbformat_minor": 4
}
